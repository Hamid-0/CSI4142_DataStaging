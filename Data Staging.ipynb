{
 "cells": [
  {
   "cell_type": "code",
   "execution_count": 1,
   "id": "82bb545f",
   "metadata": {},
   "outputs": [],
   "source": [
    "import pandas as pd"
   ]
  },
  {
   "cell_type": "markdown",
   "id": "1a2c4ac0",
   "metadata": {},
   "source": [
    "## Conceptual model:"
   ]
  },
  {
   "cell_type": "markdown",
   "id": "ec2615e5",
   "metadata": {},
   "source": [
    "# Data Staging: \n",
    "## Extract, Transform and Load (ETL)"
   ]
  },
  {
   "attachments": {},
   "cell_type": "markdown",
   "id": "b7ca4050",
   "metadata": {},
   "source": [
    "<img src = \"4142DIAGRAM.png\" style =\"width: 800px\">"
   ]
  },
  {
   "attachments": {},
   "cell_type": "markdown",
   "id": "b64d9746",
   "metadata": {},
   "source": [
    "Extracting data"
   ]
  },
  {
   "cell_type": "code",
   "execution_count": 2,
   "id": "60a93787",
   "metadata": {},
   "outputs": [],
   "source": [
    "df= pd.read_csv('./healthcare-dataset-stroke-data.csv')"
   ]
  },
  {
   "attachments": {},
   "cell_type": "markdown",
   "id": "f06bbe93",
   "metadata": {},
   "source": [
    "Updating column names to to ensure uniformity "
   ]
  },
  {
   "cell_type": "code",
   "execution_count": 3,
   "id": "78b92843",
   "metadata": {},
   "outputs": [],
   "source": [
    "df = df.rename({'Residence_type' : 'residence_type'},axis = 'columns')\n",
    "df = df.replace( {'formerly smoked':'Formerly smoked', 'never smoked': 'Never smoked', 'smokes':'Smokes', 'children': 'Children'})"
   ]
  },
  {
   "attachments": {},
   "cell_type": "markdown",
   "id": "f0566d5b",
   "metadata": {},
   "source": [
    "Dropping missing values"
   ]
  },
  {
   "cell_type": "code",
   "execution_count": 4,
   "id": "b6631367",
   "metadata": {},
   "outputs": [],
   "source": [
    "df = df.dropna()"
   ]
  },
  {
   "attachments": {},
   "cell_type": "markdown",
   "id": "34466511",
   "metadata": {},
   "source": [
    "Ensuring missing values have been dropped"
   ]
  },
  {
   "cell_type": "code",
   "execution_count": 5,
   "id": "ec1a22ee",
   "metadata": {},
   "outputs": [
    {
     "data": {
      "text/plain": [
       "id                   0\n",
       "gender               0\n",
       "age                  0\n",
       "hypertension         0\n",
       "heart_disease        0\n",
       "ever_married         0\n",
       "work_type            0\n",
       "residence_type       0\n",
       "avg_glucose_level    0\n",
       "bmi                  0\n",
       "smoking_status       0\n",
       "stroke               0\n",
       "dtype: int64"
      ]
     },
     "execution_count": 5,
     "metadata": {},
     "output_type": "execute_result"
    }
   ],
   "source": [
    "df.isnull().sum()"
   ]
  },
  {
   "attachments": {},
   "cell_type": "markdown",
   "id": "7e08d218",
   "metadata": {},
   "source": [
    "## Binning Data "
   ]
  },
  {
   "attachments": {},
   "cell_type": "markdown",
   "id": "256afb21",
   "metadata": {},
   "source": [
    "Starting with binning age group"
   ]
  },
  {
   "cell_type": "code",
   "execution_count": 6,
   "id": "88242509",
   "metadata": {},
   "outputs": [],
   "source": [
    "df['age_group'] = pd.cut(df['age'], bins=[0,10,20,30,40,50,60,70,80,90,100], right=False, labels= ['0-9','10-19','20-29','30-39','40-49','50-59','60-69','70-79','80-89','90+'])"
   ]
  },
  {
   "attachments": {},
   "cell_type": "markdown",
   "id": "fd02b109",
   "metadata": {},
   "source": [
    "Binning BMI"
   ]
  },
  {
   "cell_type": "code",
   "execution_count": 7,
   "id": "e4f764b7",
   "metadata": {},
   "outputs": [],
   "source": [
    "df['bmi_category'] = pd.cut(df['bmi'],bins=[0,18.5,25,30,40,100], right=False, labels= ['Underweight','Normal weight', 'Obese class I', 'Obese class II', 'Morbidly obese'])"
   ]
  },
  {
   "attachments": {},
   "cell_type": "markdown",
   "id": "836ad9af",
   "metadata": {},
   "source": [
    "Binning glucose"
   ]
  },
  {
   "cell_type": "code",
   "execution_count": 8,
   "id": "4e8b1121",
   "metadata": {},
   "outputs": [],
   "source": [
    "df['glucose_range'] = pd.cut(df['avg_glucose_level'],bins=[0,200,500], right=False, labels= ['Non-diabetic','Diabetic'])"
   ]
  },
  {
   "attachments": {},
   "cell_type": "markdown",
   "id": "22df7080",
   "metadata": {},
   "source": [
    "Binning smoking status"
   ]
  },
  {
   "cell_type": "code",
   "execution_count": 9,
   "id": "1ef87d7d",
   "metadata": {},
   "outputs": [],
   "source": [
    "#df['ever_smoked'] = df['smoking_status']\n",
    "\n",
    "df['ever_smoked'] = df['smoking_status'].replace( {'Formerly smoked':'Yes', 'Never smoked': 'No', 'Smokes':'Yes', 'Children': 'No'})"
   ]
  },
  {
   "attachments": {},
   "cell_type": "markdown",
   "id": "80f8f115",
   "metadata": {},
   "source": [
    "Binning number of risk factors each person has (glucose_range, smoked, bmi, hypertension, heart disease)"
   ]
  },
  {
   "cell_type": "code",
   "execution_count": 10,
   "id": "5a6ff8dd",
   "metadata": {},
   "outputs": [],
   "source": [
    "def riskChecker(x):\n",
    "    counter = 0 \n",
    "    tmpHypertension = x.hypertension\n",
    "    tmpHeartDisease = x.heart_disease\n",
    "    tmpBMI = x.bmi_category\n",
    "    tmpGlucose = x.glucose_range\n",
    "    tmpSmoked = x.ever_smoked\n",
    "    if tmpHypertension == 1:\n",
    "        counter += 1\n",
    "    if tmpHeartDisease == 1: \n",
    "        counter += 1\n",
    "    if tmpBMI == 'Obese class I' or tmpBMI == 'Obese class II' or tmpBMI ==  'Morbidly obese': \n",
    "        counter += 1\n",
    "    if tmpGlucose == 'Diabetic':\n",
    "        counter += 1 \n",
    "    if tmpSmoked == x.ever_smoked == 'Yes':\n",
    "        counter += 1\n",
    "    \n",
    "    return counter\n"
   ]
  },
  {
   "cell_type": "code",
   "execution_count": 11,
   "id": "31d8914d",
   "metadata": {},
   "outputs": [],
   "source": [
    "df['risk_factor_count'] = df.apply(riskChecker, axis = 1)"
   ]
  },
  {
   "attachments": {},
   "cell_type": "markdown",
   "id": "03449ce2",
   "metadata": {},
   "source": [
    "Generating Surrogate Keys"
   ]
  },
  {
   "cell_type": "code",
   "execution_count": 12,
   "id": "302cb6b6",
   "metadata": {},
   "outputs": [],
   "source": [
    "df['surr_key'] = range(1,len(df)+1)"
   ]
  },
  {
   "attachments": {},
   "cell_type": "markdown",
   "id": "846e8659",
   "metadata": {},
   "source": [
    "# Export to csv cleaned data"
   ]
  },
  {
   "cell_type": "code",
   "execution_count": 23,
   "id": "c6bc608e",
   "metadata": {},
   "outputs": [],
   "source": [
    "df.to_csv('./clean_stroke_data.csv')"
   ]
  },
  {
   "attachments": {},
   "cell_type": "markdown",
   "id": "84ae1787",
   "metadata": {},
   "source": [
    "# Creating and Inputting into DB"
   ]
  },
  {
   "cell_type": "code",
   "execution_count": 15,
   "metadata": {},
   "outputs": [
    {
     "name": "stdout",
     "output_type": "stream",
     "text": [
      "      surr_key  demo_key  health_key  personal_key   age   bmi  \\\n",
      "0            1       NaN         NaN           NaN  67.0  36.6   \n",
      "2            2       NaN         NaN           NaN  80.0  32.5   \n",
      "3            3       NaN         NaN           NaN  49.0  34.4   \n",
      "4            4       NaN         NaN           NaN  79.0  24.0   \n",
      "5            5       NaN         NaN           NaN  81.0  29.0   \n",
      "...        ...       ...         ...           ...   ...   ...   \n",
      "5104      4905       NaN         NaN           NaN  13.0  18.6   \n",
      "5106      4906       NaN         NaN           NaN  81.0  40.0   \n",
      "5107      4907       NaN         NaN           NaN  35.0  30.6   \n",
      "5108      4908       NaN         NaN           NaN  51.0  25.6   \n",
      "5109      4909       NaN         NaN           NaN  44.0  26.2   \n",
      "\n",
      "      risk_factor_count  stroke  \n",
      "0                     4       1  \n",
      "2                     2       1  \n",
      "3                     2       1  \n",
      "4                     1       1  \n",
      "5                     2       1  \n",
      "...                 ...     ...  \n",
      "5104                  0       0  \n",
      "5106                  1       0  \n",
      "5107                  1       0  \n",
      "5108                  2       0  \n",
      "5109                  1       0  \n",
      "\n",
      "[4909 rows x 8 columns]\n"
     ]
    }
   ],
   "source": [
    "fact_table_dataframe = pd.DataFrame(df,\n",
    "                  columns = ['surr_key','demo_key','health_key','personal_key','age','bmi','risk_factor_count','stroke'])\n",
    "personal_attribute_table = pd.DataFrame(df,\n",
    "                  columns = ['surr_key', 'gender','age'])\n",
    "demographic_info_table = pd.DataFrame(df,\n",
    "                  columns = ['surr_key','ever_married', 'work_type','residence_type'])\n",
    "health_attribute_table = pd.DataFrame(df,\n",
    "                  columns = ['surr_key','hypertension', 'heart_disease','smoking_status',\n",
    "                             'avg_glucose_level','bmi'])                             "
   ]
  },
  {
   "cell_type": "code",
   "execution_count": 26,
   "id": "38aa5c98",
   "metadata": {},
   "outputs": [
    {
     "ename": "KeyError",
     "evalue": "'surr_key'",
     "output_type": "error",
     "traceback": [
      "\u001b[0;31m---------------------------------------------------------------------------\u001b[0m",
      "\u001b[0;31mKeyError\u001b[0m                                  Traceback (most recent call last)",
      "\u001b[0;32m~/opt/anaconda3/lib/python3.9/site-packages/pandas/core/indexes/base.py\u001b[0m in \u001b[0;36mget_loc\u001b[0;34m(self, key, method, tolerance)\u001b[0m\n\u001b[1;32m   3628\u001b[0m             \u001b[0;32mtry\u001b[0m\u001b[0;34m:\u001b[0m\u001b[0;34m\u001b[0m\u001b[0;34m\u001b[0m\u001b[0m\n\u001b[0;32m-> 3629\u001b[0;31m                 \u001b[0;32mreturn\u001b[0m \u001b[0mself\u001b[0m\u001b[0;34m.\u001b[0m\u001b[0m_engine\u001b[0m\u001b[0;34m.\u001b[0m\u001b[0mget_loc\u001b[0m\u001b[0;34m(\u001b[0m\u001b[0mcasted_key\u001b[0m\u001b[0;34m)\u001b[0m\u001b[0;34m\u001b[0m\u001b[0;34m\u001b[0m\u001b[0m\n\u001b[0m\u001b[1;32m   3630\u001b[0m             \u001b[0;32mexcept\u001b[0m \u001b[0mKeyError\u001b[0m \u001b[0;32mas\u001b[0m \u001b[0merr\u001b[0m\u001b[0;34m:\u001b[0m\u001b[0;34m\u001b[0m\u001b[0;34m\u001b[0m\u001b[0m\n",
      "\u001b[0;32m~/opt/anaconda3/lib/python3.9/site-packages/pandas/_libs/index.pyx\u001b[0m in \u001b[0;36mpandas._libs.index.IndexEngine.get_loc\u001b[0;34m()\u001b[0m\n",
      "\u001b[0;32m~/opt/anaconda3/lib/python3.9/site-packages/pandas/_libs/index.pyx\u001b[0m in \u001b[0;36mpandas._libs.index.IndexEngine.get_loc\u001b[0;34m()\u001b[0m\n",
      "\u001b[0;32mpandas/_libs/hashtable_class_helper.pxi\u001b[0m in \u001b[0;36mpandas._libs.hashtable.PyObjectHashTable.get_item\u001b[0;34m()\u001b[0m\n",
      "\u001b[0;32mpandas/_libs/hashtable_class_helper.pxi\u001b[0m in \u001b[0;36mpandas._libs.hashtable.PyObjectHashTable.get_item\u001b[0;34m()\u001b[0m\n",
      "\u001b[0;31mKeyError\u001b[0m: 'surr_key'",
      "\nThe above exception was the direct cause of the following exception:\n",
      "\u001b[0;31mKeyError\u001b[0m                                  Traceback (most recent call last)",
      "\u001b[0;32m/var/folders/wh/8c3dx9n94_n9hgj1hpch8jb80000gn/T/ipykernel_37137/504517314.py\u001b[0m in \u001b[0;36m<module>\u001b[0;34m\u001b[0m\n\u001b[0;32m----> 1\u001b[0;31m \u001b[0mfact_table_dataframe\u001b[0m\u001b[0;34m[\u001b[0m\u001b[0;34m'demo_key'\u001b[0m\u001b[0;34m]\u001b[0m \u001b[0;34m=\u001b[0m \u001b[0mfact_table_dataframe\u001b[0m\u001b[0;34m[\u001b[0m\u001b[0;34m'surr_key'\u001b[0m\u001b[0;34m]\u001b[0m\u001b[0;34m\u001b[0m\u001b[0;34m\u001b[0m\u001b[0m\n\u001b[0m\u001b[1;32m      2\u001b[0m \u001b[0mfact_table_dataframe\u001b[0m\u001b[0;34m[\u001b[0m\u001b[0;34m'health_key'\u001b[0m\u001b[0;34m]\u001b[0m \u001b[0;34m=\u001b[0m \u001b[0mfact_table_dataframe\u001b[0m\u001b[0;34m[\u001b[0m\u001b[0;34m'surr_key'\u001b[0m\u001b[0;34m]\u001b[0m\u001b[0;34m\u001b[0m\u001b[0;34m\u001b[0m\u001b[0m\n\u001b[1;32m      3\u001b[0m \u001b[0mfact_table_dataframe\u001b[0m\u001b[0;34m[\u001b[0m\u001b[0;34m'personal_key'\u001b[0m\u001b[0;34m]\u001b[0m \u001b[0;34m=\u001b[0m \u001b[0mfact_table_dataframe\u001b[0m\u001b[0;34m[\u001b[0m\u001b[0;34m'surr_key'\u001b[0m\u001b[0;34m]\u001b[0m\u001b[0;34m\u001b[0m\u001b[0;34m\u001b[0m\u001b[0m\n\u001b[1;32m      4\u001b[0m \u001b[0mfact_table_dataframe\u001b[0m \u001b[0;34m=\u001b[0m \u001b[0mfact_table_dataframe\u001b[0m\u001b[0;34m.\u001b[0m\u001b[0mdrop\u001b[0m\u001b[0;34m(\u001b[0m\u001b[0;34m'surr_key'\u001b[0m\u001b[0;34m,\u001b[0m \u001b[0maxis\u001b[0m\u001b[0;34m=\u001b[0m\u001b[0;36m1\u001b[0m\u001b[0;34m)\u001b[0m\u001b[0;34m\u001b[0m\u001b[0;34m\u001b[0m\u001b[0m\n\u001b[1;32m      5\u001b[0m \u001b[0;34m\u001b[0m\u001b[0m\n",
      "\u001b[0;32m~/opt/anaconda3/lib/python3.9/site-packages/pandas/core/frame.py\u001b[0m in \u001b[0;36m__getitem__\u001b[0;34m(self, key)\u001b[0m\n\u001b[1;32m   3503\u001b[0m             \u001b[0;32mif\u001b[0m \u001b[0mself\u001b[0m\u001b[0;34m.\u001b[0m\u001b[0mcolumns\u001b[0m\u001b[0;34m.\u001b[0m\u001b[0mnlevels\u001b[0m \u001b[0;34m>\u001b[0m \u001b[0;36m1\u001b[0m\u001b[0;34m:\u001b[0m\u001b[0;34m\u001b[0m\u001b[0;34m\u001b[0m\u001b[0m\n\u001b[1;32m   3504\u001b[0m                 \u001b[0;32mreturn\u001b[0m \u001b[0mself\u001b[0m\u001b[0;34m.\u001b[0m\u001b[0m_getitem_multilevel\u001b[0m\u001b[0;34m(\u001b[0m\u001b[0mkey\u001b[0m\u001b[0;34m)\u001b[0m\u001b[0;34m\u001b[0m\u001b[0;34m\u001b[0m\u001b[0m\n\u001b[0;32m-> 3505\u001b[0;31m             \u001b[0mindexer\u001b[0m \u001b[0;34m=\u001b[0m \u001b[0mself\u001b[0m\u001b[0;34m.\u001b[0m\u001b[0mcolumns\u001b[0m\u001b[0;34m.\u001b[0m\u001b[0mget_loc\u001b[0m\u001b[0;34m(\u001b[0m\u001b[0mkey\u001b[0m\u001b[0;34m)\u001b[0m\u001b[0;34m\u001b[0m\u001b[0;34m\u001b[0m\u001b[0m\n\u001b[0m\u001b[1;32m   3506\u001b[0m             \u001b[0;32mif\u001b[0m \u001b[0mis_integer\u001b[0m\u001b[0;34m(\u001b[0m\u001b[0mindexer\u001b[0m\u001b[0;34m)\u001b[0m\u001b[0;34m:\u001b[0m\u001b[0;34m\u001b[0m\u001b[0;34m\u001b[0m\u001b[0m\n\u001b[1;32m   3507\u001b[0m                 \u001b[0mindexer\u001b[0m \u001b[0;34m=\u001b[0m \u001b[0;34m[\u001b[0m\u001b[0mindexer\u001b[0m\u001b[0;34m]\u001b[0m\u001b[0;34m\u001b[0m\u001b[0;34m\u001b[0m\u001b[0m\n",
      "\u001b[0;32m~/opt/anaconda3/lib/python3.9/site-packages/pandas/core/indexes/base.py\u001b[0m in \u001b[0;36mget_loc\u001b[0;34m(self, key, method, tolerance)\u001b[0m\n\u001b[1;32m   3629\u001b[0m                 \u001b[0;32mreturn\u001b[0m \u001b[0mself\u001b[0m\u001b[0;34m.\u001b[0m\u001b[0m_engine\u001b[0m\u001b[0;34m.\u001b[0m\u001b[0mget_loc\u001b[0m\u001b[0;34m(\u001b[0m\u001b[0mcasted_key\u001b[0m\u001b[0;34m)\u001b[0m\u001b[0;34m\u001b[0m\u001b[0;34m\u001b[0m\u001b[0m\n\u001b[1;32m   3630\u001b[0m             \u001b[0;32mexcept\u001b[0m \u001b[0mKeyError\u001b[0m \u001b[0;32mas\u001b[0m \u001b[0merr\u001b[0m\u001b[0;34m:\u001b[0m\u001b[0;34m\u001b[0m\u001b[0;34m\u001b[0m\u001b[0m\n\u001b[0;32m-> 3631\u001b[0;31m                 \u001b[0;32mraise\u001b[0m \u001b[0mKeyError\u001b[0m\u001b[0;34m(\u001b[0m\u001b[0mkey\u001b[0m\u001b[0;34m)\u001b[0m \u001b[0;32mfrom\u001b[0m \u001b[0merr\u001b[0m\u001b[0;34m\u001b[0m\u001b[0;34m\u001b[0m\u001b[0m\n\u001b[0m\u001b[1;32m   3632\u001b[0m             \u001b[0;32mexcept\u001b[0m \u001b[0mTypeError\u001b[0m\u001b[0;34m:\u001b[0m\u001b[0;34m\u001b[0m\u001b[0;34m\u001b[0m\u001b[0m\n\u001b[1;32m   3633\u001b[0m                 \u001b[0;31m# If we have a listlike key, _check_indexing_error will raise\u001b[0m\u001b[0;34m\u001b[0m\u001b[0;34m\u001b[0m\u001b[0m\n",
      "\u001b[0;31mKeyError\u001b[0m: 'surr_key'"
     ]
    }
   ],
   "source": [
    "fact_table_dataframe['demo_key'] = fact_table_dataframe['surr_key']\n",
    "fact_table_dataframe['health_key'] = fact_table_dataframe['surr_key']\n",
    "fact_table_dataframe['personal_key'] = fact_table_dataframe['surr_key']\n",
    "fact_table_dataframe = fact_table_dataframe.drop('surr_key', axis=1)\n",
    "\n",
    "personal_attribute_table = personal_attribute_table.rename({'surr_key' : 'personal_key'},axis = 'columns')\n",
    "demographic_info_table = demographic_info_table.rename({'surr_key' : 'demo_key'},axis = 'columns')\n",
    "health_attribute_table = health_attribute_table.rename({'surr_key' : 'health_key'},axis = 'columns')\n",
    "\n",
    "fact_table_cols = \",\".join([str(i) for i in fact_table_dataframe.columns.tolist()])\n",
    "personal_attribute_cols = \",\".join([str(i) for i in personal_attribute_table.columns.tolist()])\n",
    "demographic_info_cols = \",\".join([str(i) for i in demographic_info_table.columns.tolist()])\n",
    "health_attribute_cols = \",\".join([str(i) for i in health_attribute_table.columns.tolist()])"
   ]
  },
  {
   "cell_type": "code",
   "execution_count": 27,
   "id": "52eb4733",
   "metadata": {},
   "outputs": [
    {
     "name": "stdout",
     "output_type": "stream",
     "text": [
      "DuplicateDatabase: database \"stroke_db\" already exists\n",
      "\n",
      "Query: b'CREATE DATABASE stroke_db'\n",
      "DuplicateTable: relation \"demographic_info\" already exists\n",
      "\n",
      "Query: b'\\n        CREATE TABLE demographic_info (\\n            demo_key INTEGER PRIMARY KEY,\\n            ever_married TEXT,\\n            work_type TEXT,\\n            residence_type TEXT\\n        )\\n    '\n",
      "InterfaceError: cursor already closed\n",
      "Query: b'\\n        CREATE TABLE demographic_info (\\n            demo_key INTEGER PRIMARY KEY,\\n            ever_married TEXT,\\n            work_type TEXT,\\n            residence_type TEXT\\n        )\\n    '\n",
      "InterfaceError: cursor already closed\n",
      "Query: b'\\n        CREATE TABLE demographic_info (\\n            demo_key INTEGER PRIMARY KEY,\\n            ever_married TEXT,\\n            work_type TEXT,\\n            residence_type TEXT\\n        )\\n    '\n",
      "InterfaceError: cursor already closed\n",
      "Query: b'\\n        CREATE TABLE demographic_info (\\n            demo_key INTEGER PRIMARY KEY,\\n            ever_married TEXT,\\n            work_type TEXT,\\n            residence_type TEXT\\n        )\\n    '\n"
     ]
    },
    {
     "ename": "InterfaceError",
     "evalue": "cursor already closed",
     "output_type": "error",
     "traceback": [
      "\u001b[0;31m---------------------------------------------------------------------------\u001b[0m",
      "\u001b[0;31mInterfaceError\u001b[0m                            Traceback (most recent call last)",
      "\u001b[0;32m/var/folders/wh/8c3dx9n94_n9hgj1hpch8jb80000gn/T/ipykernel_37137/2135638456.py\u001b[0m in \u001b[0;36m<module>\u001b[0;34m\u001b[0m\n\u001b[1;32m    125\u001b[0m     \u001b[0;32mfor\u001b[0m \u001b[0mi\u001b[0m\u001b[0;34m,\u001b[0m\u001b[0mrow\u001b[0m \u001b[0;32min\u001b[0m \u001b[0mpersonal_attribute_table\u001b[0m\u001b[0;34m.\u001b[0m\u001b[0miterrows\u001b[0m\u001b[0;34m(\u001b[0m\u001b[0;34m)\u001b[0m\u001b[0;34m:\u001b[0m\u001b[0;34m\u001b[0m\u001b[0;34m\u001b[0m\u001b[0m\n\u001b[1;32m    126\u001b[0m         \u001b[0mpersonal_attr_sql\u001b[0m \u001b[0;34m=\u001b[0m \u001b[0;34m\"INSERT INTO personal_attributes (personal_key, gender, age) VALUES (%s, %s, %s)\"\u001b[0m\u001b[0;34m\u001b[0m\u001b[0;34m\u001b[0m\u001b[0m\n\u001b[0;32m--> 127\u001b[0;31m         \u001b[0mcursor\u001b[0m\u001b[0;34m.\u001b[0m\u001b[0mexecute\u001b[0m\u001b[0;34m(\u001b[0m\u001b[0mpersonal_attr_sql\u001b[0m\u001b[0;34m,\u001b[0m \u001b[0mtuple\u001b[0m\u001b[0;34m(\u001b[0m\u001b[0mrow\u001b[0m\u001b[0;34m)\u001b[0m\u001b[0;34m)\u001b[0m\u001b[0;34m\u001b[0m\u001b[0;34m\u001b[0m\u001b[0m\n\u001b[0m\u001b[1;32m    128\u001b[0m         \u001b[0mconnection\u001b[0m\u001b[0;34m.\u001b[0m\u001b[0mcommit\u001b[0m\u001b[0;34m(\u001b[0m\u001b[0;34m)\u001b[0m\u001b[0;34m\u001b[0m\u001b[0;34m\u001b[0m\u001b[0m\n\u001b[1;32m    129\u001b[0m \u001b[0;34m\u001b[0m\u001b[0m\n",
      "\u001b[0;31mInterfaceError\u001b[0m: cursor already closed"
     ]
    }
   ],
   "source": [
    "from configparser import ConfigParser\n",
    "import psycopg2\n",
    "from typing import Dict\n",
    "\n",
    "\n",
    "def load_connection_info(\n",
    "    ini_filename: str\n",
    ") -> Dict[str, str]:\n",
    "    parser = ConfigParser()\n",
    "    parser.read(ini_filename)\n",
    "    # Create a dictionary of the variables stored under the \"postgresql\" section of the .ini\n",
    "    conn_info = {param[0]: param[1] for param in parser.items(\"postgresql\")}\n",
    "    return conn_info\n",
    "\n",
    "\n",
    "def create_db(\n",
    "    conn_info: Dict[str, str],\n",
    ") -> None:\n",
    "    # Connect just to PostgreSQL with the user loaded from the .ini file\n",
    "    psql_connection_string = f\"user={conn_info['user']} password={conn_info['password']}\"\n",
    "    conn = psycopg2.connect(psql_connection_string)\n",
    "    cur = conn.cursor()\n",
    "\n",
    "    # \"CREATE DATABASE\" requires automatic commits\n",
    "    conn.autocommit = True\n",
    "    sql_query = f\"CREATE DATABASE {conn_info['database']}\"\n",
    "\n",
    "    try:\n",
    "        cur.execute(sql_query)\n",
    "    except Exception as e:\n",
    "        print(f\"{type(e).__name__}: {e}\")\n",
    "        print(f\"Query: {cur.query}\")\n",
    "        cur.close()\n",
    "    else:\n",
    "        # Revert autocommit settings\n",
    "        conn.autocommit = False\n",
    "\n",
    "\n",
    "def create_table(\n",
    "    sql_query: str, \n",
    "    conn: psycopg2.extensions.connection, \n",
    "    cur: psycopg2.extensions.cursor\n",
    ") -> None:\n",
    "    try:\n",
    "        # Execute the table creation query\n",
    "        cur.execute(sql_query)\n",
    "    except Exception as e:\n",
    "        print(f\"{type(e).__name__}: {e}\")\n",
    "        print(f\"Query: {cur.query}\")\n",
    "        conn.rollback()\n",
    "        cur.close()\n",
    "    else:\n",
    "        # To take effect, changes need be committed to the database\n",
    "        conn.commit()\n",
    "\n",
    "if __name__ == \"__main__\":\n",
    "    # host, database, user, password\n",
    "    conn_info = load_connection_info(\"db.ini\")\n",
    "\n",
    "    # Create the desired database\n",
    "    create_db(conn_info)\n",
    "\n",
    "    # Connect to the database created\n",
    "    connection = psycopg2.connect(**conn_info)\n",
    "    cursor = connection.cursor()\n",
    "\n",
    "    # Create the \"demographic_info\" table\n",
    "    demographic_info = \"\"\"\n",
    "        CREATE TABLE demographic_info (\n",
    "            demo_key INTEGER PRIMARY KEY,\n",
    "            ever_married TEXT,\n",
    "            work_type TEXT,\n",
    "            residence_type TEXT\n",
    "        )\n",
    "    \"\"\"\n",
    "    create_table(demographic_info, connection, cursor)\n",
    "\n",
    "\n",
    "\n",
    "    # Create the \"health_attribute\" table\n",
    "    health_attribute = \"\"\"\n",
    "        CREATE TABLE health_attribute (\n",
    "            health_key INTEGER PRIMARY KEY,\n",
    "            hypertension INTEGER,\n",
    "            heart_disease INTEGER,\n",
    "            smoking_status TEXT,\n",
    "            avg_glucose_level DOUBLE PRECISION,\n",
    "            bmi DOUBLE PRECISION\n",
    "        )\n",
    "    \"\"\"\n",
    "    create_table(health_attribute, connection, cursor)\n",
    "\n",
    "    # Create the \"personal_attributes\" table\n",
    "    personal_attributes  = \"\"\"\n",
    "        CREATE TABLE personal_attributes (\n",
    "            personal_key INTEGER PRIMARY KEY,\n",
    "            gender TEXT,\n",
    "            age DOUBLE PRECISION\n",
    "        )\n",
    "    \"\"\"\n",
    "    create_table(personal_attributes, connection, cursor)\n",
    "\n",
    "    # Create the \"fact_table\" table\n",
    "    fact_table = \"\"\"\n",
    "        CREATE TABLE fact_table (\n",
    "            demo_key INTEGER REFERENCES demographic_info(demo_key),\n",
    "            health_key INTEGER REFERENCES health_attribute(health_key),\n",
    "            personal_key INTEGER REFERENCES personal_attributes(personal_key),\n",
    "            age DOUBLE PRECISION,\n",
    "            bmi DOUBLE PRECISION,\n",
    "            risk_factor_count INTEGER,\n",
    "            stroke INTEGER \n",
    "        )\n",
    "    \"\"\"\n",
    "    create_table(fact_table, connection, cursor)\n",
    "\n",
    "\n",
    "    \n",
    "    \n",
    "    \n",
    "\n",
    "    \n",
    "\n",
    "    # Adding personal attribute table\n",
    "    for i,row in personal_attribute_table.iterrows():\n",
    "        personal_attr_sql = \"INSERT INTO personal_attributes (personal_key, gender, age) VALUES (%s, %s, %s)\"\n",
    "        cursor.execute(personal_attr_sql, tuple(row))\n",
    "        connection.commit()\n",
    "        \n",
    "    # Adding demographic info table\n",
    "    for i,row in demographic_info_table.iterrows():\n",
    "        demographic_info_sql = \"INSERT INTO demographic_info (demo_key,ever_married,work_type,residence_type) VALUES (%s, %s, %s,%s)\"\n",
    "        cursor.execute(demographic_info_sql, tuple(row))\n",
    "        connection.commit()\n",
    "\n",
    "    # Adding health attribute table\n",
    "    for i,row in health_attribute_table.iterrows():\n",
    "        health_attribute_sql = \"INSERT INTO health_attribute (health_key,hypertension,heart_disease,smoking_status,avg_glucose_level,bmi) VALUES (%s, %s, %s,%s,%s,%s)\"\n",
    "        cursor.execute(health_attribute_sql, tuple(row))\n",
    "        connection.commit()\n",
    "\n",
    "    # Adding fact table\n",
    "    for i,row in fact_table_dataframe.iterrows():\n",
    "        fact_table_sql = \"INSERT INTO fact_table (demo_key, health_key , personal_key, age, bmi, risk_factor_count, stroke) VALUES (%s, %s, %s,%s, %s, %s, %s)\"\n",
    "        cursor.execute(fact_table_sql, tuple(row))\n",
    "        connection.commit()\n",
    "        \n",
    "    connection.close()\n",
    "    cursor.close()\n"
   ]
  }
 ],
 "metadata": {
  "kernelspec": {
   "display_name": "Python 3",
   "language": "python",
   "name": "python3"
  },
  "language_info": {
   "codemirror_mode": {
    "name": "ipython",
    "version": 3
   },
   "file_extension": ".py",
   "mimetype": "text/x-python",
   "name": "python",
   "nbconvert_exporter": "python",
   "pygments_lexer": "ipython3",
   "version": "3.9.13"
  }
 },
 "nbformat": 4,
 "nbformat_minor": 5
}
