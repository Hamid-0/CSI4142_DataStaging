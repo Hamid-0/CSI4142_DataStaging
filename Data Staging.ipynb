{
 "cells": [
  {
   "cell_type": "code",
   "execution_count": 1,
   "id": "82bb545f",
   "metadata": {},
   "outputs": [],
   "source": [
    "import pandas as pd"
   ]
  },
  {
   "cell_type": "markdown",
   "id": "ec2615e5",
   "metadata": {},
   "source": [
    "# Data Staging: \n",
    "## Extract, Transform and Load (ETL)"
   ]
  },
  {
   "cell_type": "markdown",
   "id": "1a2c4ac0",
   "metadata": {},
   "source": [
    "## Conceptual model:"
   ]
  },
  {
   "attachments": {},
   "cell_type": "markdown",
   "id": "b7ca4050",
   "metadata": {},
   "source": [
    "<img src = \"4142DIAGRAM.png\" style =\"width: 800px\">"
   ]
  },
  {
   "cell_type": "markdown",
   "id": "b64d9746",
   "metadata": {},
   "source": [
    "# Extract"
   ]
  },
  {
   "cell_type": "code",
   "execution_count": 2,
   "id": "60a93787",
   "metadata": {},
   "outputs": [],
   "source": [
    "df= pd.read_csv('./healthcare-dataset-stroke-data.csv')"
   ]
  },
  {
   "attachments": {},
   "cell_type": "markdown",
   "id": "f06bbe93",
   "metadata": {},
   "source": [
    "## Updating column names to to ensure uniformity "
   ]
  },
  {
   "cell_type": "code",
   "execution_count": 14,
   "id": "78b92843",
   "metadata": {},
   "outputs": [],
   "source": [
    "df = df.rename({'Residence_type' : 'residence_type'},axis = 'columns')\n",
    "df = df.replace( {'formerly smoked':'Formerly smoked', 'never smoked': 'Never smoked', 'smokes':'Smokes', 'children': 'Children'})"
   ]
  },
  {
   "attachments": {},
   "cell_type": "markdown",
   "id": "f0566d5b",
   "metadata": {},
   "source": [
    "Dropping missing values"
   ]
  },
  {
   "cell_type": "code",
   "execution_count": null,
   "id": "b6631367",
   "metadata": {},
   "outputs": [],
   "source": [
    "df = df.dropna()"
   ]
  },
  {
   "attachments": {},
   "cell_type": "markdown",
   "id": "34466511",
   "metadata": {},
   "source": [
    "Ensuring missing values have been dropped"
   ]
  },
  {
   "cell_type": "code",
   "execution_count": 4,
   "id": "ec1a22ee",
   "metadata": {},
   "outputs": [
    {
     "data": {
      "text/plain": [
       "id                     0\n",
       "gender                 0\n",
       "age                    0\n",
       "hypertension           0\n",
       "heart_disease          0\n",
       "ever_married           0\n",
       "work_type              0\n",
       "residence_type         0\n",
       "avg_glucose_level      0\n",
       "bmi                  201\n",
       "smoking_status         0\n",
       "stroke                 0\n",
       "dtype: int64"
      ]
     },
     "execution_count": 4,
     "metadata": {},
     "output_type": "execute_result"
    }
   ],
   "source": [
    "df.isnull().sum()"
   ]
  },
  {
   "attachments": {},
   "cell_type": "markdown",
   "id": "7e08d218",
   "metadata": {},
   "source": [
    "## Binning Data "
   ]
  },
  {
   "attachments": {},
   "cell_type": "markdown",
   "id": "256afb21",
   "metadata": {},
   "source": [
    "Starting with binning age group"
   ]
  },
  {
   "cell_type": "code",
   "execution_count": 6,
   "id": "88242509",
   "metadata": {},
   "outputs": [],
   "source": [
    "df['age_group'] = pd.cut(df['age'], bins=[0,10,20,30,40,50,60,70,80,90,100], right=False, labels= ['0-9','10-19','20-29','30-39','40-49','50-59','60-69','70-79','80-89','90+'])"
   ]
  },
  {
   "attachments": {},
   "cell_type": "markdown",
   "id": "fd02b109",
   "metadata": {},
   "source": [
    "Binning BMI"
   ]
  },
  {
   "cell_type": "code",
   "execution_count": 7,
   "id": "e4f764b7",
   "metadata": {},
   "outputs": [],
   "source": [
    "df['bmi_category'] = pd.cut(df['bmi'],bins=[0,18.5,25,30,40,100], right=False, labels= ['Underweight','Normal weight', 'Obese class I', 'Obese class II', 'Morbidly obese'])"
   ]
  },
  {
   "attachments": {},
   "cell_type": "markdown",
   "id": "836ad9af",
   "metadata": {},
   "source": [
    "Binning glucose"
   ]
  },
  {
   "cell_type": "code",
   "execution_count": 8,
   "id": "4e8b1121",
   "metadata": {},
   "outputs": [],
   "source": [
    "df['glucose_range'] = pd.cut(df['avg_glucose_level'],bins=[0,200,500], right=False, labels= ['Non-diabetic','Diabetic'])"
   ]
  },
  {
   "attachments": {},
   "cell_type": "markdown",
   "id": "22df7080",
   "metadata": {},
   "source": [
    "Binning smoking status"
   ]
  },
  {
   "cell_type": "code",
   "execution_count": 9,
   "id": "1ef87d7d",
   "metadata": {},
   "outputs": [],
   "source": [
    "#df['ever_smoked'] = df['smoking_status']\n",
    "\n",
    "df['ever_smoked'] = df['smoking_status'].replace( {'Formerly smoked':'Yes', 'Never smoked': 'No', 'Smokes':'Yes', 'Children': 'No'})"
   ]
  },
  {
   "attachments": {},
   "cell_type": "markdown",
   "id": "80f8f115",
   "metadata": {},
   "source": [
    "Binning number of risk factors each person has (glucose_range, smoked, bmi, hypertension, heart disease)"
   ]
  },
  {
   "cell_type": "code",
   "execution_count": 11,
   "id": "5a6ff8dd",
   "metadata": {},
   "outputs": [],
   "source": [
    "def riskChecker(x):\n",
    "    counter = 0 \n",
    "    tmpHypertension = x.hypertension\n",
    "    tmpHeartDisease = x.heart_disease\n",
    "    tmpBMI = x.bmi_category\n",
    "    tmpGlucose = x.glucose_range\n",
    "    tmpSmoked = x.ever_smoked\n",
    "    if tmpHypertension == 1:\n",
    "        counter += 1\n",
    "    if tmpHeartDisease == 1: \n",
    "        counter += 1\n",
    "    if tmpBMI == 'Obese class I' or tmpBMI == 'Obese class II' or tmpBMI ==  'Morbidly obese': \n",
    "        counter += 1\n",
    "    if tmpGlucose == 'Diabetic':\n",
    "        counter += 1 \n",
    "    if tmpSmoked == x.ever_smoked == 'Yes':\n",
    "        counter += 1\n",
    "    \n",
    "    return counter\n"
   ]
  },
  {
   "cell_type": "code",
   "execution_count": 12,
   "id": "31d8914d",
   "metadata": {},
   "outputs": [],
   "source": [
    "df['risk_factor_count'] = df.apply(riskChecker, axis = 1)"
   ]
  },
  {
   "attachments": {},
   "cell_type": "markdown",
   "id": "84ae1787",
   "metadata": {},
   "source": [
    "# Creating and Inputting into DB"
   ]
  },
  {
   "cell_type": "code",
   "execution_count": null,
   "metadata": {},
   "outputs": [],
   "source": [
    "\n",
    "personal_attribute_table = pd.DataFrame(df,\n",
    "                  columns = ['id', 'gender','age'])\n",
    "demographic_info_table = pd.DataFrame(df,\n",
    "                  columns = ['id','ever_married', 'work_type','residence_type'])\n",
    "health_attribute_table = pd.DataFrame(df,\n",
    "                  columns = ['id','hypertension', 'heart_disease','smoking_status',\n",
    "                             'avg_glucose_level','bmi'])\n",
    "                             "
   ]
  },
  {
   "cell_type": "code",
   "execution_count": null,
   "id": "0887e578",
   "metadata": {},
   "outputs": [],
   "source": [
    "personal_attribute_table = personal_attribute_table.rename({'id' : 'personal_key'},axis = 'columns')\n",
    "demographic_info_table = demographic_info_table.rename({'id' : 'demo_key'},axis = 'columns')\n",
    "health_attribute_table = health_attribute_table.rename({'id' : 'health_key'},axis = 'columns')"
   ]
  },
  {
   "cell_type": "code",
   "execution_count": null,
   "id": "4b42981e",
   "metadata": {},
   "outputs": [],
   "source": [
    "personal_attribute_cols = \",\".join([str(i) for i in personal_attribute_table.columns.tolist()])\n",
    "demographic_info_cols = \",\".join([str(i) for i in demographic_info_table.columns.tolist()])\n",
    "health_attribute_cols = \",\".join([str(i) for i in health_attribute_table.columns.tolist()])"
   ]
  },
  {
   "cell_type": "code",
   "execution_count": null,
   "id": "52eb4733",
   "metadata": {},
   "outputs": [],
   "source": [
    "from configparser import ConfigParser\n",
    "import psycopg2\n",
    "from typing import Dict\n",
    "\n",
    "\n",
    "def load_connection_info(\n",
    "    ini_filename: str\n",
    ") -> Dict[str, str]:\n",
    "    parser = ConfigParser()\n",
    "    parser.read(ini_filename)\n",
    "    # Create a dictionary of the variables stored under the \"postgresql\" section of the .ini\n",
    "    conn_info = {param[0]: param[1] for param in parser.items(\"postgresql\")}\n",
    "    return conn_info\n",
    "\n",
    "\n",
    "def create_db(\n",
    "    conn_info: Dict[str, str],\n",
    ") -> None:\n",
    "    # Connect just to PostgreSQL with the user loaded from the .ini file\n",
    "    psql_connection_string = f\"user={conn_info['user']} password={conn_info['password']}\"\n",
    "    conn = psycopg2.connect(psql_connection_string)\n",
    "    cur = conn.cursor()\n",
    "\n",
    "    # \"CREATE DATABASE\" requires automatic commits\n",
    "    conn.autocommit = True\n",
    "    sql_query = f\"CREATE DATABASE {conn_info['database']}\"\n",
    "\n",
    "    try:\n",
    "        cur.execute(sql_query)\n",
    "    except Exception as e:\n",
    "        print(f\"{type(e).__name__}: {e}\")\n",
    "        print(f\"Query: {cur.query}\")\n",
    "        cur.close()\n",
    "    else:\n",
    "        # Revert autocommit settings\n",
    "        conn.autocommit = False\n",
    "\n",
    "\n",
    "def create_table(\n",
    "    sql_query: str, \n",
    "    conn: psycopg2.extensions.connection, \n",
    "    cur: psycopg2.extensions.cursor\n",
    ") -> None:\n",
    "    try:\n",
    "        # Execute the table creation query\n",
    "        cur.execute(sql_query)\n",
    "    except Exception as e:\n",
    "        print(f\"{type(e).__name__}: {e}\")\n",
    "        print(f\"Query: {cur.query}\")\n",
    "        conn.rollback()\n",
    "        cur.close()\n",
    "    else:\n",
    "        # To take effect, changes need be committed to the database\n",
    "        conn.commit()\n",
    "\n",
    "if __name__ == \"__main__\":\n",
    "    # host, database, user, password\n",
    "    conn_info = load_connection_info(\"db.ini\")\n",
    "\n",
    "    # Create the desired database\n",
    "    create_db(conn_info)\n",
    "\n",
    "    # Connect to the database created\n",
    "    connection = psycopg2.connect(**conn_info)\n",
    "    cursor = connection.cursor()\n",
    "\n",
    "    # Create the \"demographic_info\" table\n",
    "    demographic_info = \"\"\"\n",
    "        CREATE TABLE demographic_info (\n",
    "            demo_key INTEGER PRIMARY KEY,\n",
    "            ever_married TEXT,\n",
    "            work_type TEXT,\n",
    "            residence_type TEXT\n",
    "        )\n",
    "    \"\"\"\n",
    "    create_table(demographic_info, connection, cursor)\n",
    "\n",
    "\n",
    "\n",
    "    # Create the \"health_attribute\" table\n",
    "    health_attribute = \"\"\"\n",
    "        CREATE TABLE health_attribute (\n",
    "            health_key INTEGER PRIMARY KEY,\n",
    "            hypertension INTEGER,\n",
    "            heart_disease INTEGER,\n",
    "            smoking_status TEXT,\n",
    "            avg_glucose_level DOUBLE PRECISION,\n",
    "            bmi DOUBLE PRECISION\n",
    "        )\n",
    "    \"\"\"\n",
    "    create_table(health_attribute, connection, cursor)\n",
    "\n",
    "    # Create the \"personal_attributes\" table\n",
    "    personal_attributes  = \"\"\"\n",
    "        CREATE TABLE personal_attributes (\n",
    "            personal_key INTEGER PRIMARY KEY,\n",
    "            gender TEXT,\n",
    "            age DOUBLE PRECISION\n",
    "        )\n",
    "    \"\"\"\n",
    "    create_table(personal_attributes, connection, cursor)\n",
    "\n",
    "    # Create the \"fact_table\" table\n",
    "    fact_table = \"\"\"\n",
    "        CREATE TABLE fact_table (\n",
    "            stroke INTEGER,\n",
    "            Total_strokes INTEGER,\n",
    "            Paitent_count INTEGER,\n",
    "            Number_smokers INTEGER,\n",
    "            Bmi_level INTEGER,\n",
    "            demo_key INTEGER REFERENCES demographic_info(demo_key),\n",
    "            health_key INTEGER REFERENCES health_attribute(health_key),\n",
    "            personal_key INTEGER REFERENCES personal_attributes(personal_key)\n",
    "        )\n",
    "    \"\"\"\n",
    "    create_table(fact_table, connection, cursor)\n",
    "\n",
    "\n",
    "\n",
    "\n",
    "    # Insert DataFrame recrds one by one.\n",
    "    for i,row in personal_attribute_table.iterrows():\n",
    "        personal_attr_sql = \"INSERT INTO personal_attributes (personal_key, gender, age) VALUES (%s, %s, %s)\"\n",
    "        cursor.execute(personal_attr_sql, tuple(row))\n",
    "        connection.commit()\n",
    "        \n",
    "    for i,row in demographic_info_table.iterrows():\n",
    "        demographic_info_sql = \"INSERT INTO demographic_info (demo_key,ever_married,work_type,residence_type) VALUES (%s, %s, %s,%s)\"\n",
    "        cursor.execute(demographic_info_sql, tuple(row))\n",
    "        connection.commit()\n",
    "\n",
    "    for i,row in health_attribute_table.iterrows():\n",
    "        health_attribute_sql = \"INSERT INTO health_attribute (health_key,hypertension,heart_disease,smoking_status,avg_glucose_level,bmi) VALUES (%s, %s, %s,%s,%s,%s)\"\n",
    "        cursor.execute(health_attribute_sql, tuple(row))\n",
    "        connection.commit()\n",
    "        \n",
    "    connection.close()\n",
    "    cursor.close()\n"
   ]
  }
 ],
 "metadata": {
  "kernelspec": {
   "display_name": "Python 3",
   "language": "python",
   "name": "python3"
  },
  "language_info": {
   "codemirror_mode": {
    "name": "ipython",
    "version": 3
   },
   "file_extension": ".py",
   "mimetype": "text/x-python",
   "name": "python",
   "nbconvert_exporter": "python",
   "pygments_lexer": "ipython3",
   "version": "3.9.13"
  }
 },
 "nbformat": 4,
 "nbformat_minor": 5
}
