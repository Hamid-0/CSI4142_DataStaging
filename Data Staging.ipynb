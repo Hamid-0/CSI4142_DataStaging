{
 "cells": [
  {
   "cell_type": "code",
   "execution_count": 1,
   "id": "82bb545f",
   "metadata": {},
   "outputs": [],
   "source": [
    "import pandas as pd\n"
   ]
  },
  {
   "cell_type": "markdown",
   "id": "1a2c4ac0",
   "metadata": {},
   "source": [
    "## Conceptual model:"
   ]
  },
  {
   "attachments": {},
   "cell_type": "markdown",
   "id": "35c13d3a",
   "metadata": {},
   "source": [
    "<img src = \"4142DIAGRAM.png\" style =\"width: 800px\">"
   ]
  },
  {
   "cell_type": "markdown",
   "id": "ec2615e5",
   "metadata": {},
   "source": [
    "# Data Staging: \n",
    "## Extract, Transform and Load (ETL)"
   ]
  },
  {
   "attachments": {},
   "cell_type": "markdown",
   "id": "b64d9746",
   "metadata": {},
   "source": [
    "Extracting data"
   ]
  },
  {
   "cell_type": "code",
   "execution_count": 2,
   "id": "60a93787",
   "metadata": {},
   "outputs": [],
   "source": [
    "df = pd.read_csv('./healthcare-dataset-stroke-data.csv')\n"
   ]
  },
  {
   "attachments": {},
   "cell_type": "markdown",
   "id": "f06bbe93",
   "metadata": {},
   "source": [
    "Updating column names to to ensure uniformity "
   ]
  },
  {
   "cell_type": "code",
   "execution_count": 3,
   "id": "78b92843",
   "metadata": {},
   "outputs": [],
   "source": [
    "df = df.rename({'Residence_type': 'residence_type'}, axis='columns')\n",
    "df = df.replace({'formerly smoked': 'Formerly smoked',\n",
    "                'never smoked': 'Never smoked', 'smokes': 'Smokes', 'children': 'Children'})\n"
   ]
  },
  {
   "attachments": {},
   "cell_type": "markdown",
   "id": "f0566d5b",
   "metadata": {},
   "source": [
    "Dropping missing values"
   ]
  },
  {
   "cell_type": "code",
   "execution_count": 4,
   "id": "b6631367",
   "metadata": {},
   "outputs": [],
   "source": [
    "df = df.dropna()\n"
   ]
  },
  {
   "attachments": {},
   "cell_type": "markdown",
   "id": "34466511",
   "metadata": {},
   "source": [
    "Ensuring missing values have been dropped"
   ]
  },
  {
   "cell_type": "code",
   "execution_count": 5,
   "id": "ec1a22ee",
   "metadata": {},
   "outputs": [
    {
     "data": {
      "text/plain": [
       "id                   0\n",
       "gender               0\n",
       "age                  0\n",
       "hypertension         0\n",
       "heart_disease        0\n",
       "ever_married         0\n",
       "work_type            0\n",
       "residence_type       0\n",
       "avg_glucose_level    0\n",
       "bmi                  0\n",
       "smoking_status       0\n",
       "stroke               0\n",
       "dtype: int64"
      ]
     },
     "execution_count": 5,
     "metadata": {},
     "output_type": "execute_result"
    }
   ],
   "source": [
    "df.isnull().sum()\n"
   ]
  },
  {
   "attachments": {},
   "cell_type": "markdown",
   "id": "7e08d218",
   "metadata": {},
   "source": [
    "## Binning Data "
   ]
  },
  {
   "attachments": {},
   "cell_type": "markdown",
   "id": "256afb21",
   "metadata": {},
   "source": [
    "Starting with binning age group"
   ]
  },
  {
   "cell_type": "code",
   "execution_count": 6,
   "id": "88242509",
   "metadata": {},
   "outputs": [],
   "source": [
    "df['age_group'] = pd.cut(df['age'], bins=[0, 10, 20, 30, 40, 50, 60, 70, 80, 90, 100], right=False, labels=[\n",
    "                         '0-9', '10-19', '20-29', '30-39', '40-49', '50-59', '60-69', '70-79', '80-89', '90+'])\n"
   ]
  },
  {
   "attachments": {},
   "cell_type": "markdown",
   "id": "fd02b109",
   "metadata": {},
   "source": [
    "Binning BMI"
   ]
  },
  {
   "cell_type": "code",
   "execution_count": 7,
   "id": "e4f764b7",
   "metadata": {},
   "outputs": [],
   "source": [
    "df['bmi_category'] = pd.cut(df['bmi'], bins=[0, 18.5, 25, 30, 40, 100], right=False, labels=[\n",
    "                            'Underweight', 'Normal weight', 'Obese class I', 'Obese class II', 'Morbidly obese'])\n"
   ]
  },
  {
   "attachments": {},
   "cell_type": "markdown",
   "id": "836ad9af",
   "metadata": {},
   "source": [
    "Binning glucose"
   ]
  },
  {
   "cell_type": "code",
   "execution_count": 8,
   "id": "4e8b1121",
   "metadata": {},
   "outputs": [],
   "source": [
    "df['glucose_range'] = pd.cut(df['avg_glucose_level'], bins=[\n",
    "                             0, 200, 500], right=False, labels=['Non-diabetic', 'Diabetic'])\n"
   ]
  },
  {
   "attachments": {},
   "cell_type": "markdown",
   "id": "22df7080",
   "metadata": {},
   "source": [
    "Binning smoking status"
   ]
  },
  {
   "cell_type": "code",
   "execution_count": 9,
   "id": "1ef87d7d",
   "metadata": {},
   "outputs": [],
   "source": [
    "# df['ever_smoked'] = df['smoking_status']\n",
    "\n",
    "df['ever_smoked'] = df['smoking_status'].replace(\n",
    "    {'Formerly smoked': 'Yes', 'Never smoked': 'No', 'Smokes': 'Yes', 'Children': 'No'})\n"
   ]
  },
  {
   "attachments": {},
   "cell_type": "markdown",
   "id": "80f8f115",
   "metadata": {},
   "source": [
    "Binning number of risk factors each person has (glucose_range, smoked, bmi, hypertension, heart disease)"
   ]
  },
  {
   "cell_type": "code",
   "execution_count": 10,
   "id": "5a6ff8dd",
   "metadata": {},
   "outputs": [],
   "source": [
    "def riskChecker(x):\n",
    "    counter = 0\n",
    "    tmpHypertension = x.hypertension\n",
    "    tmpHeartDisease = x.heart_disease\n",
    "    tmpBMI = x.bmi_category\n",
    "    tmpGlucose = x.glucose_range\n",
    "    tmpSmoked = x.ever_smoked\n",
    "    if tmpHypertension == 1:\n",
    "        counter += 1\n",
    "    if tmpHeartDisease == 1:\n",
    "        counter += 1\n",
    "    if tmpBMI == 'Obese class I' or tmpBMI == 'Obese class II' or tmpBMI == 'Morbidly obese':\n",
    "        counter += 1\n",
    "    if tmpGlucose == 'Diabetic':\n",
    "        counter += 1\n",
    "    if tmpSmoked == x.ever_smoked == 'Yes':\n",
    "        counter += 1\n",
    "\n",
    "    return counter\n"
   ]
  },
  {
   "cell_type": "code",
   "execution_count": 11,
   "id": "31d8914d",
   "metadata": {},
   "outputs": [],
   "source": [
    "df['risk_factor_count'] = df.apply(riskChecker, axis=1)\n"
   ]
  },
  {
   "attachments": {},
   "cell_type": "markdown",
   "id": "03449ce2",
   "metadata": {},
   "source": [
    "Generating Surrogate Keys"
   ]
  },
  {
   "cell_type": "code",
   "execution_count": 12,
   "id": "302cb6b6",
   "metadata": {},
   "outputs": [],
   "source": [
    "df['surr_key'] = range(1, len(df)+1)\n"
   ]
  },
  {
   "attachments": {},
   "cell_type": "markdown",
   "id": "846e8659",
   "metadata": {},
   "source": [
    "# Export to csv cleaned data"
   ]
  },
  {
   "cell_type": "code",
   "execution_count": 13,
   "id": "c6bc608e",
   "metadata": {},
   "outputs": [],
   "source": [
    "df.to_csv('./clean_stroke_data.csv')\n"
   ]
  },
  {
   "attachments": {},
   "cell_type": "markdown",
   "id": "84ae1787",
   "metadata": {},
   "source": [
    "# Creating and Inputting into DB"
   ]
  },
  {
   "cell_type": "code",
   "execution_count": 14,
   "id": "827ea013",
   "metadata": {},
   "outputs": [],
   "source": [
    "fact_table_dataframe = pd.DataFrame(df,\n",
    "                                    columns=['surr_key', 'demo_key', 'health_key', 'personal_key', 'age', 'bmi', 'risk_factor_count', 'stroke'])\n",
    "personal_attribute_table = pd.DataFrame(df,\n",
    "                                        columns=['surr_key', 'gender', 'age'])\n",
    "demographic_info_table = pd.DataFrame(df,\n",
    "                                      columns=['surr_key', 'ever_married', 'work_type', 'residence_type'])\n",
    "health_attribute_table = pd.DataFrame(df,\n",
    "                                      columns=['surr_key', 'hypertension', 'heart_disease', 'smoking_status',\n",
    "                                               'avg_glucose_level', 'bmi'])\n"
   ]
  },
  {
   "cell_type": "code",
   "execution_count": 15,
   "id": "38aa5c98",
   "metadata": {},
   "outputs": [],
   "source": [
    "fact_table_dataframe['demo_key'] = fact_table_dataframe['surr_key']\n",
    "fact_table_dataframe['health_key'] = fact_table_dataframe['surr_key']\n",
    "fact_table_dataframe['personal_key'] = fact_table_dataframe['surr_key']\n",
    "fact_table_dataframe = fact_table_dataframe.drop('surr_key', axis=1)\n",
    "\n",
    "personal_attribute_table = personal_attribute_table.rename(\n",
    "    {'surr_key': 'personal_key'}, axis='columns')\n",
    "demographic_info_table = demographic_info_table.rename(\n",
    "    {'surr_key': 'demo_key'}, axis='columns')\n",
    "health_attribute_table = health_attribute_table.rename(\n",
    "    {'surr_key': 'health_key'}, axis='columns')\n",
    "\n",
    "fact_table_cols = \",\".join([str(i)\n",
    "                           for i in fact_table_dataframe.columns.tolist()])\n",
    "personal_attribute_cols = \",\".join(\n",
    "    [str(i) for i in personal_attribute_table.columns.tolist()])\n",
    "demographic_info_cols = \",\".join(\n",
    "    [str(i) for i in demographic_info_table.columns.tolist()])\n",
    "health_attribute_cols = \",\".join(\n",
    "    [str(i) for i in health_attribute_table.columns.tolist()])\n"
   ]
  },
  {
   "cell_type": "code",
   "execution_count": 16,
   "id": "52eb4733",
   "metadata": {},
   "outputs": [
    {
     "name": "stdout",
     "output_type": "stream",
     "text": [
      "Drill Down Result: [('Adults', 3120), ('Children', 836), ('Seniors', 953)]\n",
      "Roll Up Result: [('Female', 2897), ('Male', 2011), ('Other', 1), (None, 4909)]\n",
      "Slice Result: [(3, 'Female', 49.0), (4, 'Female', 79.0), (7, 'Female', 69.0), (8, 'Female', 78.0), (9, 'Female', 81.0), (10, 'Female', 61.0), (11, 'Female', 54.0), (12, 'Female', 79.0), (13, 'Female', 50.0), (16, 'Female', 60.0), (17, 'Female', 71.0), (18, 'Female', 52.0), (19, 'Female', 79.0), (23, 'Female', 65.0), (27, 'Female', 82.0), (30, 'Female', 82.0), (32, 'Female', 72.0), (34, 'Female', 49.0), (40, 'Female', 58.0), (42, 'Female', 39.0), (43, 'Female', 79.0), (44, 'Female', 77.0), (46, 'Female', 82.0), (48, 'Female', 54.0), (49, 'Female', 56.0), (50, 'Female', 80.0), (51, 'Female', 67.0), (52, 'Female', 45.0), (54, 'Female', 70.0), (57, 'Female', 80.0), (58, 'Female', 67.0), (59, 'Female', 66.0), (61, 'Female', 52.0), (62, 'Female', 80.0), (64, 'Female', 79.0), (67, 'Female', 79.0), (68, 'Female', 68.0), (71, 'Female', 70.0), (74, 'Female', 79.0), (76, 'Female', 57.0), (77, 'Female', 80.0), (79, 'Female', 78.0), (80, 'Female', 70.0), (83, 'Female', 69.0), (85, 'Female', 77.0), (86, 'Female', 74.0), (87, 'Female', 81.0), (88, 'Female', 57.0), (89, 'Female', 50.0), (90, 'Female', 54.0), (91, 'Female', 79.0), (92, 'Female', 53.0), (95, 'Female', 45.0), (96, 'Female', 68.0), (100, 'Female', 38.0), (101, 'Female', 77.0), (102, 'Female', 58.0), (103, 'Female', 53.0), (106, 'Female', 72.0), (107, 'Female', 80.0), (109, 'Female', 73.0), (110, 'Female', 78.0), (112, 'Female', 68.0), (113, 'Female', 71.0), (115, 'Female', 76.0), (117, 'Female', 75.0), (119, 'Female', 59.0), (120, 'Female', 74.0), (121, 'Female', 69.0), (122, 'Female', 72.0), (124, 'Female', 78.0), (125, 'Female', 57.0), (126, 'Female', 70.0), (128, 'Female', 80.0), (130, 'Female', 55.0), (131, 'Female', 77.0), (132, 'Female', 50.0), (133, 'Female', 57.0), (134, 'Female', 71.0), (135, 'Female', 81.0), (136, 'Female', 78.0), (137, 'Female', 70.0), (139, 'Female', 56.0), (140, 'Female', 79.0), (142, 'Female', 60.0), (143, 'Female', 80.0), (145, 'Female', 80.0), (148, 'Female', 46.0), (150, 'Female', 32.0), (154, 'Female', 82.0), (156, 'Female', 65.0), (160, 'Female', 72.0), (164, 'Female', 74.0), (166, 'Female', 77.0), (167, 'Female', 78.0), (169, 'Female', 78.0), (170, 'Female', 81.0), (173, 'Female', 63.0), (174, 'Female', 39.0), (175, 'Female', 51.0), (177, 'Female', 48.0), (178, 'Female', 81.0), (179, 'Female', 79.0), (181, 'Female', 55.0), (185, 'Female', 63.0), (186, 'Female', 81.0), (188, 'Female', 57.0), (189, 'Female', 81.0), (190, 'Female', 39.0), (191, 'Female', 80.0), (192, 'Female', 81.0), (193, 'Female', 79.0), (194, 'Female', 73.0), (195, 'Female', 77.0), (197, 'Female', 68.0), (200, 'Female', 51.0), (205, 'Female', 68.0), (207, 'Female', 14.0), (208, 'Female', 75.0), (209, 'Female', 78.0), (212, 'Female', 8.0), (213, 'Female', 70.0), (215, 'Female', 47.0), (216, 'Female', 52.0), (217, 'Female', 75.0), (218, 'Female', 32.0), (219, 'Female', 74.0), (220, 'Female', 79.0), (222, 'Female', 37.0), (223, 'Female', 37.0), (224, 'Female', 40.0), (226, 'Female', 20.0), (227, 'Female', 42.0), (228, 'Female', 44.0), (229, 'Female', 79.0), (230, 'Female', 65.0), (231, 'Female', 57.0), (232, 'Female', 49.0), (234, 'Female', 59.0), (235, 'Female', 25.0), (236, 'Female', 67.0), (237, 'Female', 38.0), (238, 'Female', 54.0), (239, 'Female', 70.0), (241, 'Female', 47.0), (243, 'Female', 3.0), (244, 'Female', 58.0), (246, 'Female', 32.0), (247, 'Female', 23.0), (248, 'Female', 55.0), (249, 'Female', 17.0), (253, 'Female', 16.0), (255, 'Female', 22.0), (256, 'Female', 45.0), (257, 'Female', 66.0), (260, 'Female', 58.0), (261, 'Female', 53.0), (262, 'Female', 78.0), (267, 'Female', 13.0), (269, 'Female', 30.0), (271, 'Female', 43.0), (272, 'Female', 79.0), (273, 'Female', 27.0), (274, 'Female', 38.0), (275, 'Female', 78.0), (278, 'Female', 37.0), (279, 'Female', 48.0), (280, 'Female', 29.0), (283, 'Female', 22.0), (287, 'Female', 57.0), (289, 'Female', 21.0), (290, 'Female', 18.0), (291, 'Female', 78.0), (292, 'Female', 78.0), (294, 'Female', 52.0), (295, 'Female', 51.0), (297, 'Female', 48.0), (298, 'Female', 82.0), (299, 'Female', 54.0), (300, 'Female', 49.0), (301, 'Female', 24.0), (302, 'Female', 37.0), (304, 'Female', 66.0), (305, 'Female', 23.0), (307, 'Female', 55.0), (308, 'Female', 25.0), (309, 'Female', 48.0), (310, 'Female', 79.0), (311, 'Female', 47.0), (312, 'Female', 20.0), (313, 'Female', 60.0), (314, 'Female', 32.0), (315, 'Female', 66.0), (317, 'Female', 36.0), (319, 'Female', 29.0), (320, 'Female', 39.0), (322, 'Female', 0.64), (324, 'Female', 72.0), (325, 'Female', 43.0), (326, 'Female', 57.0), (327, 'Female', 44.0), (328, 'Female', 4.0), (330, 'Female', 18.0), (332, 'Female', 23.0), (333, 'Female', 53.0), (335, 'Female', 0.88), (337, 'Female', 14.0), (338, 'Female', 53.0), (340, 'Female', 39.0), (344, 'Female', 37.0), (348, 'Female', 70.0), (351, 'Female', 39.0), (353, 'Female', 20.0), (354, 'Female', 17.0), (356, 'Female', 75.0), (357, 'Female', 31.0), (359, 'Female', 5.0), (360, 'Female', 13.0), (361, 'Female', 22.0), (362, 'Female', 52.0), (363, 'Female', 61.0), (364, 'Female', 78.0), (366, 'Female', 21.0), (367, 'Female', 22.0), (368, 'Female', 80.0), (371, 'Female', 64.0), (372, 'Female', 38.0), (374, 'Female', 33.0), (375, 'Female', 3.0), (376, 'Female', 37.0), (377, 'Female', 22.0), (378, 'Female', 24.0), (380, 'Female', 12.0), (382, 'Female', 52.0), (383, 'Female', 68.0), (384, 'Female', 5.0), (385, 'Female', 56.0), (386, 'Female', 43.0), (387, 'Female', 40.0), (389, 'Female', 52.0), (391, 'Female', 69.0), (393, 'Female', 64.0), (394, 'Female', 62.0), (395, 'Female', 2.0), (398, 'Female', 22.0), (399, 'Female', 26.0), (402, 'Female', 63.0), (405, 'Female', 65.0), (412, 'Female', 42.0), (415, 'Female', 33.0), (416, 'Female', 43.0), (417, 'Female', 11.0), (418, 'Female', 7.0), (419, 'Female', 16.0), (420, 'Female', 44.0), (421, 'Female', 78.0), (424, 'Female', 61.0), (425, 'Female', 43.0), (426, 'Female', 38.0), (429, 'Female', 18.0), (430, 'Female', 43.0), (431, 'Female', 43.0), (432, 'Female', 32.0), (433, 'Female', 81.0), (435, 'Female', 66.0), (437, 'Female', 53.0), (438, 'Female', 78.0), (440, 'Female', 48.0), (441, 'Female', 31.0), (444, 'Female', 42.0), (449, 'Female', 23.0), (450, 'Female', 55.0), (451, 'Female', 71.0), (453, 'Female', 14.0), (454, 'Female', 15.0), (455, 'Female', 66.0), (456, 'Female', 56.0), (457, 'Female', 60.0), (458, 'Female', 57.0), (460, 'Female', 76.0), (462, 'Female', 42.0), (463, 'Female', 71.0), (465, 'Female', 39.0), (466, 'Female', 46.0), (467, 'Female', 51.0), (471, 'Female', 28.0), (472, 'Female', 44.0), (473, 'Female', 68.0), (476, 'Female', 31.0), (479, 'Female', 38.0), (480, 'Female', 5.0), (481, 'Female', 54.0), (482, 'Female', 30.0), (483, 'Female', 23.0), (484, 'Female', 31.0), (487, 'Female', 25.0), (489, 'Female', 20.0), (490, 'Female', 12.0), (493, 'Female', 16.0), (494, 'Female', 43.0), (495, 'Female', 30.0), (497, 'Female', 54.0), (498, 'Female', 57.0), (502, 'Female', 26.0), (505, 'Female', 15.0), (506, 'Female', 76.0), (508, 'Female', 55.0), (510, 'Female', 55.0), (514, 'Female', 39.0), (517, 'Female', 1.8), (518, 'Female', 72.0), (519, 'Female', 0.32), (520, 'Female', 64.0), (523, 'Female', 81.0), (524, 'Female', 32.0), (526, 'Female', 52.0), (528, 'Female', 36.0), (532, 'Female', 51.0), (533, 'Female', 23.0), (534, 'Female', 54.0), (535, 'Female', 54.0), (537, 'Female', 26.0), (540, 'Female', 65.0), (541, 'Female', 42.0), (542, 'Female', 47.0), (543, 'Female', 24.0), (547, 'Female', 56.0), (548, 'Female', 30.0), (549, 'Female', 63.0), (550, 'Female', 46.0), (551, 'Female', 53.0), (552, 'Female', 1.08), (554, 'Female', 59.0), (555, 'Female', 24.0), (557, 'Female', 39.0), (562, 'Female', 1.8), (565, 'Female', 56.0), (569, 'Female', 52.0), (570, 'Female', 42.0), (571, 'Female', 73.0), (572, 'Female', 55.0), (576, 'Female', 80.0), (577, 'Female', 33.0), (578, 'Female', 74.0), (580, 'Female', 40.0), (582, 'Female', 66.0), (583, 'Female', 20.0), (584, 'Female', 51.0), (585, 'Female', 60.0), (588, 'Female', 42.0), (591, 'Female', 66.0), (592, 'Female', 56.0), (595, 'Female', 27.0), (598, 'Female', 80.0), (599, 'Female', 43.0), (601, 'Female', 70.0), (602, 'Female', 58.0), (603, 'Female', 49.0), (605, 'Female', 54.0), (607, 'Female', 56.0), (608, 'Female', 79.0), (610, 'Female', 28.0), (611, 'Female', 9.0), (612, 'Female', 4.0), (613, 'Female', 36.0), (616, 'Female', 80.0), (618, 'Female', 38.0), (620, 'Female', 75.0), (625, 'Female', 17.0), (626, 'Female', 58.0), (628, 'Female', 53.0), (629, 'Female', 26.0), (630, 'Female', 48.0), (632, 'Female', 27.0), (633, 'Female', 16.0), (635, 'Female', 2.0), (636, 'Female', 1.8), (639, 'Female', 35.0), (640, 'Female', 52.0), (641, 'Female', 55.0), (642, 'Female', 42.0), (643, 'Female', 52.0), (644, 'Female', 18.0), (645, 'Female', 13.0), (646, 'Female', 45.0), (647, 'Female', 29.0), (648, 'Female', 12.0), (649, 'Female', 37.0), (650, 'Female', 30.0), (651, 'Female', 44.0), (652, 'Female', 79.0), (654, 'Female', 45.0), (655, 'Female', 66.0), (656, 'Female', 19.0), (657, 'Female', 49.0), (658, 'Female', 66.0), (660, 'Female', 59.0), (661, 'Female', 23.0), (662, 'Female', 79.0), (663, 'Female', 37.0), (665, 'Female', 70.0), (666, 'Female', 34.0), (667, 'Female', 28.0), (669, 'Female', 13.0), (670, 'Female', 22.0), (672, 'Female', 81.0), (673, 'Female', 28.0), (677, 'Female', 30.0), (678, 'Female', 51.0), (683, 'Female', 49.0), (687, 'Female', 20.0), (689, 'Female', 79.0), (690, 'Female', 55.0), (691, 'Female', 27.0), (694, 'Female', 71.0), (695, 'Female', 56.0), (697, 'Female', 64.0), (701, 'Female', 58.0), (702, 'Female', 78.0), (703, 'Female', 1.16), (704, 'Female', 35.0), (705, 'Female', 64.0), (706, 'Female', 18.0), (709, 'Female', 54.0), (710, 'Female', 39.0), (711, 'Female', 37.0), (712, 'Female', 17.0), (713, 'Female', 20.0), (714, 'Female', 31.0), (715, 'Female', 56.0), (716, 'Female', 31.0), (723, 'Female', 31.0), (724, 'Female', 31.0), (726, 'Female', 30.0), (728, 'Female', 63.0), (731, 'Female', 51.0), (732, 'Female', 38.0), (734, 'Female', 58.0), (735, 'Female', 69.0), (736, 'Female', 64.0), (737, 'Female', 31.0), (738, 'Female', 59.0), (739, 'Female', 54.0), (740, 'Female', 24.0), (743, 'Female', 29.0), (744, 'Female', 42.0), (745, 'Female', 31.0), (746, 'Female', 29.0), (747, 'Female', 23.0), (748, 'Female', 25.0), (749, 'Female', 14.0), (750, 'Female', 66.0), (751, 'Female', 77.0), (753, 'Female', 52.0), (754, 'Female', 41.0), (755, 'Female', 31.0), (757, 'Female', 51.0), (758, 'Female', 40.0), (759, 'Female', 48.0), (762, 'Female', 39.0), (764, 'Female', 5.0), (770, 'Female', 21.0), (771, 'Female', 70.0), (774, 'Female', 38.0), (776, 'Female', 36.0), (777, 'Female', 31.0), (778, 'Female', 65.0), (782, 'Female', 33.0), (784, 'Female', 32.0), (785, 'Female', 54.0), (786, 'Female', 51.0), (787, 'Female', 39.0), (788, 'Female', 40.0), (789, 'Female', 19.0), (790, 'Female', 9.0), (792, 'Female', 23.0), (793, 'Female', 19.0), (795, 'Female', 48.0), (798, 'Female', 53.0), (799, 'Female', 70.0), (800, 'Female', 1.4), (802, 'Female', 17.0), (803, 'Female', 40.0), (804, 'Female', 46.0), (805, 'Female', 32.0), (807, 'Female', 40.0), (808, 'Female', 19.0), (810, 'Female', 46.0), (812, 'Female', 31.0), (815, 'Female', 20.0), (816, 'Female', 51.0), (817, 'Female', 37.0), (819, 'Female', 62.0), (820, 'Female', 28.0), (823, 'Female', 37.0), (824, 'Female', 3.0), (827, 'Female', 59.0), (830, 'Female', 62.0), (832, 'Female', 19.0), (833, 'Female', 59.0), (834, 'Female', 59.0), (837, 'Female', 54.0), (838, 'Female', 27.0), (839, 'Female', 4.0), (841, 'Female', 41.0), (843, 'Female', 51.0), (844, 'Female', 59.0), (845, 'Female', 51.0), (848, 'Female', 49.0), (849, 'Female', 25.0), (850, 'Female', 31.0), (851, 'Female', 68.0), (853, 'Female', 32.0), (854, 'Female', 39.0), (855, 'Female', 63.0), (856, 'Female', 69.0), (857, 'Female', 29.0), (858, 'Female', 1.72), (859, 'Female', 58.0), (860, 'Female', 32.0), (863, 'Female', 77.0), (865, 'Female', 21.0), (866, 'Female', 16.0), (867, 'Female', 8.0), (869, 'Female', 74.0), (870, 'Female', 7.0), (873, 'Female', 23.0), (877, 'Female', 24.0), (878, 'Female', 74.0), (879, 'Female', 52.0), (882, 'Female', 23.0), (884, 'Female', 51.0), (887, 'Female', 75.0), (888, 'Female', 69.0), (889, 'Female', 57.0), (890, 'Female', 47.0), (891, 'Female', 33.0), (892, 'Female', 51.0), (893, 'Female', 47.0), (896, 'Female', 20.0), (900, 'Female', 15.0), (901, 'Female', 3.0), (905, 'Female', 5.0), (907, 'Female', 30.0), (909, 'Female', 27.0), (911, 'Female', 55.0), (912, 'Female', 19.0), (914, 'Female', 71.0), (915, 'Female', 16.0), (916, 'Female', 49.0), (917, 'Female', 10.0), (918, 'Female', 37.0), (920, 'Female', 7.0), (921, 'Female', 61.0), (923, 'Female', 9.0), (924, 'Female', 46.0), (928, 'Female', 21.0), (929, 'Female', 2.0), (930, 'Female', 37.0), (937, 'Female', 50.0), (941, 'Female', 29.0), (945, 'Female', 80.0), (946, 'Female', 54.0), (948, 'Female', 26.0), (949, 'Female', 6.0), (950, 'Female', 41.0), (951, 'Female', 42.0), (955, 'Female', 14.0), (956, 'Female', 77.0), (957, 'Female', 50.0), (959, 'Female', 51.0), (961, 'Female', 63.0), (962, 'Female', 66.0), (963, 'Female', 20.0), (964, 'Female', 37.0), (966, 'Female', 60.0), (968, 'Female', 53.0), (969, 'Female', 55.0), (970, 'Female', 63.0), (971, 'Female', 57.0), (975, 'Female', 8.0), (979, 'Female', 72.0), (981, 'Female', 51.0), (982, 'Female', 15.0), (983, 'Female', 24.0), (984, 'Female', 30.0), (985, 'Female', 82.0), (986, 'Female', 62.0), (987, 'Female', 79.0), (988, 'Female', 19.0), (990, 'Female', 5.0), (992, 'Female', 31.0), (995, 'Female', 61.0), (996, 'Female', 53.0), (997, 'Female', 76.0), (1000, 'Female', 34.0), (1003, 'Female', 19.0), (1004, 'Female', 50.0), (1005, 'Female', 80.0), (1006, 'Female', 13.0), (1009, 'Female', 30.0), (1011, 'Female', 82.0), (1013, 'Female', 81.0), (1014, 'Female', 48.0), (1015, 'Female', 66.0), (1016, 'Female', 38.0), (1020, 'Female', 53.0), (1022, 'Female', 36.0), (1023, 'Female', 50.0), (1024, 'Female', 32.0), (1025, 'Female', 58.0), (1026, 'Female', 73.0), (1027, 'Female', 62.0), (1028, 'Female', 50.0), (1029, 'Female', 51.0), (1030, 'Female', 19.0), (1031, 'Female', 30.0), (1032, 'Female', 45.0), (1034, 'Female', 28.0), (1036, 'Female', 0.32), (1037, 'Female', 23.0), (1041, 'Female', 77.0), (1043, 'Female', 67.0), (1045, 'Female', 59.0), (1048, 'Female', 22.0), (1050, 'Female', 27.0), (1051, 'Female', 44.0), (1052, 'Female', 18.0), (1054, 'Female', 66.0), (1055, 'Female', 42.0), (1056, 'Female', 56.0), (1057, 'Female', 69.0), (1058, 'Female', 65.0), (1060, 'Female', 36.0), (1061, 'Female', 69.0), (1065, 'Female', 59.0), (1066, 'Female', 61.0), (1067, 'Female', 28.0), (1069, 'Female', 33.0), (1071, 'Female', 47.0), (1073, 'Female', 48.0), (1075, 'Female', 26.0), (1078, 'Female', 38.0), (1079, 'Female', 28.0), (1080, 'Female', 67.0), (1082, 'Female', 40.0), (1084, 'Female', 55.0), (1085, 'Female', 7.0), (1089, 'Female', 45.0), (1090, 'Female', 28.0), (1091, 'Female', 52.0), (1094, 'Female', 21.0), (1096, 'Female', 45.0), (1097, 'Female', 71.0), (1098, 'Female', 46.0), (1099, 'Female', 3.0), (1100, 'Female', 79.0), (1101, 'Female', 71.0), (1103, 'Female', 52.0), (1104, 'Female', 49.0), (1105, 'Female', 32.0), (1107, 'Female', 78.0), (1108, 'Female', 48.0), (1110, 'Female', 80.0), (1111, 'Female', 34.0), (1112, 'Female', 40.0), (1113, 'Female', 59.0), (1114, 'Female', 11.0), (1115, 'Female', 35.0), (1116, 'Female', 29.0), (1118, 'Female', 59.0), (1119, 'Female', 44.0), (1120, 'Female', 62.0), (1121, 'Female', 32.0), (1122, 'Female', 2.0), (1123, 'Female', 79.0), (1124, 'Female', 2.0), (1129, 'Female', 31.0), (1131, 'Female', 20.0), (1132, 'Female', 55.0), (1133, 'Female', 23.0), (1134, 'Female', 33.0), (1135, 'Female', 14.0), (1136, 'Female', 79.0), (1138, 'Female', 76.0), (1142, 'Female', 33.0), (1143, 'Female', 32.0), (1144, 'Female', 0.72), (1145, 'Female', 49.0), (1146, 'Female', 41.0), (1148, 'Female', 58.0), (1149, 'Female', 79.0), (1150, 'Female', 23.0), (1151, 'Female', 78.0), (1152, 'Female', 41.0), (1154, 'Female', 30.0), (1156, 'Female', 32.0), (1157, 'Female', 20.0), (1162, 'Female', 65.0), (1165, 'Female', 79.0), (1167, 'Female', 56.0), (1170, 'Female', 41.0), (1173, 'Female', 33.0), (1174, 'Female', 21.0), (1175, 'Female', 26.0), (1176, 'Female', 69.0), (1178, 'Female', 3.0), (1179, 'Female', 1.24), (1180, 'Female', 80.0), (1183, 'Female', 30.0), (1185, 'Female', 71.0), (1189, 'Female', 45.0), (1192, 'Female', 50.0), (1193, 'Female', 25.0), (1196, 'Female', 43.0), (1199, 'Female', 38.0), (1200, 'Female', 14.0), (1204, 'Female', 60.0), (1205, 'Female', 13.0), (1208, 'Female', 46.0), (1210, 'Female', 28.0), (1211, 'Female', 62.0), (1212, 'Female', 11.0), (1214, 'Female', 80.0), (1223, 'Female', 80.0), (1224, 'Female', 49.0), (1225, 'Female', 50.0), (1230, 'Female', 79.0), (1231, 'Female', 5.0), (1232, 'Female', 51.0), (1234, 'Female', 65.0), (1235, 'Female', 81.0), (1236, 'Female', 46.0), (1238, 'Female', 25.0), (1241, 'Female', 22.0), (1242, 'Female', 61.0), (1243, 'Female', 3.0), (1247, 'Female', 21.0), (1251, 'Female', 58.0), (1253, 'Female', 55.0), (1255, 'Female', 77.0), (1256, 'Female', 29.0), (1257, 'Female', 46.0), (1258, 'Female', 40.0), (1260, 'Female', 37.0), (1261, 'Female', 35.0), (1263, 'Female', 56.0), (1264, 'Female', 26.0), (1265, 'Female', 75.0), (1266, 'Female', 44.0), (1268, 'Female', 17.0), (1270, 'Female', 47.0), (1271, 'Female', 50.0), (1274, 'Female', 47.0), (1277, 'Female', 65.0), (1278, 'Female', 40.0), (1279, 'Female', 82.0), (1280, 'Female', 64.0), (1281, 'Female', 50.0), (1282, 'Female', 40.0), (1283, 'Female', 74.0), (1284, 'Female', 30.0), (1288, 'Female', 60.0), (1289, 'Female', 59.0), (1290, 'Female', 72.0), (1291, 'Female', 62.0), (1292, 'Female', 13.0), (1298, 'Female', 3.0), (1301, 'Female', 61.0), (1304, 'Female', 64.0), (1305, 'Female', 32.0), (1306, 'Female', 42.0), (1308, 'Female', 10.0), (1309, 'Female', 78.0), (1310, 'Female', 68.0), (1311, 'Female', 24.0), (1313, 'Female', 45.0), (1315, 'Female', 37.0), (1316, 'Female', 43.0), (1320, 'Female', 2.0), (1321, 'Female', 59.0), (1322, 'Female', 21.0), (1323, 'Female', 55.0), (1324, 'Female', 14.0), (1325, 'Female', 53.0), (1328, 'Female', 49.0), (1331, 'Female', 45.0), (1333, 'Female', 12.0), (1335, 'Female', 77.0), (1338, 'Female', 52.0), (1344, 'Female', 50.0), (1345, 'Female', 41.0), (1348, 'Female', 37.0), (1350, 'Female', 11.0), (1352, 'Female', 5.0), (1353, 'Female', 17.0), (1354, 'Female', 6.0), (1355, 'Female', 57.0), (1358, 'Female', 76.0), (1361, 'Female', 45.0), (1362, 'Female', 54.0), (1368, 'Female', 40.0), (1369, 'Female', 3.0), (1371, 'Female', 24.0), (1373, 'Female', 52.0), (1374, 'Female', 63.0), (1375, 'Female', 78.0), (1376, 'Female', 22.0), (1377, 'Female', 2.0), (1378, 'Female', 79.0), (1379, 'Female', 49.0), (1380, 'Female', 74.0), (1384, 'Female', 50.0), (1385, 'Female', 49.0), (1387, 'Female', 21.0), (1389, 'Female', 22.0), (1391, 'Female', 21.0), (1393, 'Female', 16.0), (1397, 'Female', 80.0), (1399, 'Female', 25.0), (1400, 'Female', 39.0), (1402, 'Female', 71.0), (1403, 'Female', 71.0), (1404, 'Female', 40.0), (1405, 'Female', 41.0), (1407, 'Female', 3.0), (1411, 'Female', 5.0), (1412, 'Female', 30.0), (1413, 'Female', 49.0), (1415, 'Female', 23.0), (1418, 'Female', 41.0), (1419, 'Female', 63.0), (1422, 'Female', 1.24), (1423, 'Female', 38.0), (1424, 'Female', 43.0), (1425, 'Female', 27.0), (1429, 'Female', 34.0), (1431, 'Female', 77.0), (1432, 'Female', 30.0), (1433, 'Female', 81.0), (1434, 'Female', 12.0), (1436, 'Female', 35.0), (1437, 'Female', 82.0), (1440, 'Female', 32.0), (1441, 'Female', 27.0), (1445, 'Female', 44.0), (1448, 'Female', 42.0), (1449, 'Female', 66.0), (1450, 'Female', 82.0), (1451, 'Female', 49.0), (1452, 'Female', 77.0), (1453, 'Female', 59.0), (1454, 'Female', 54.0), (1455, 'Female', 38.0), (1456, 'Female', 55.0), (1457, 'Female', 13.0), (1458, 'Female', 45.0), (1459, 'Female', 54.0), (1460, 'Female', 51.0), (1461, 'Female', 47.0), (1464, 'Female', 55.0), (1465, 'Female', 23.0), (1469, 'Female', 50.0), (1473, 'Female', 22.0), (1476, 'Female', 47.0), (1478, 'Female', 53.0), (1479, 'Female', 26.0), (1481, 'Female', 81.0), (1483, 'Female', 25.0), (1486, 'Female', 44.0), (1487, 'Female', 65.0), (1488, 'Female', 54.0), (1489, 'Female', 24.0), (1490, 'Female', 65.0), (1492, 'Female', 33.0), (1493, 'Female', 74.0), (1494, 'Female', 18.0), (1495, 'Female', 77.0), (1500, 'Female', 44.0), (1501, 'Female', 78.0), (1502, 'Female', 37.0), (1503, 'Female', 32.0), (1505, 'Female', 41.0), (1507, 'Female', 75.0), (1508, 'Female', 17.0), (1509, 'Female', 13.0), (1510, 'Female', 25.0), (1511, 'Female', 57.0), (1515, 'Female', 15.0), (1517, 'Female', 68.0), (1519, 'Female', 40.0), (1520, 'Female', 62.0), (1521, 'Female', 45.0), (1522, 'Female', 47.0), (1523, 'Female', 35.0), (1527, 'Female', 1.24), (1528, 'Female', 18.0), (1529, 'Female', 81.0), (1531, 'Female', 73.0), (1532, 'Female', 0.08), (1537, 'Female', 7.0), (1538, 'Female', 66.0), (1539, 'Female', 53.0), (1540, 'Female', 20.0), (1541, 'Female', 15.0), (1544, 'Female', 33.0), (1545, 'Female', 53.0), (1547, 'Female', 28.0), (1548, 'Female', 81.0), (1549, 'Female', 20.0), (1550, 'Female', 1.48), (1553, 'Female', 38.0), (1555, 'Female', 67.0), (1557, 'Female', 41.0), (1558, 'Female', 21.0), (1561, 'Female', 25.0), (1562, 'Female', 6.0), (1564, 'Female', 32.0), (1565, 'Female', 64.0), (1568, 'Female', 60.0), (1569, 'Female', 56.0), (1572, 'Female', 53.0), (1574, 'Female', 42.0), (1575, 'Female', 63.0), (1576, 'Female', 52.0), (1577, 'Female', 62.0), (1578, 'Female', 68.0), (1579, 'Female', 36.0), (1580, 'Female', 3.0), (1581, 'Female', 40.0), (1582, 'Female', 8.0), (1583, 'Female', 65.0), (1584, 'Female', 28.0), (1585, 'Female', 40.0), (1586, 'Female', 65.0), (1589, 'Female', 54.0), (1590, 'Female', 79.0), (1591, 'Female', 62.0), (1594, 'Female', 27.0), (1596, 'Female', 30.0), (1597, 'Female', 15.0), (1598, 'Female', 50.0), (1599, 'Female', 32.0), (1600, 'Female', 33.0), (1603, 'Female', 71.0), (1604, 'Female', 20.0), (1605, 'Female', 44.0), (1607, 'Female', 50.0), (1609, 'Female', 44.0), (1610, 'Female', 47.0), (1614, 'Female', 29.0), (1616, 'Female', 19.0), (1617, 'Female', 41.0), (1618, 'Female', 23.0), (1622, 'Female', 52.0), (1624, 'Female', 21.0), (1626, 'Female', 35.0), (1627, 'Female', 33.0), (1628, 'Female', 53.0), (1629, 'Female', 31.0), (1630, 'Female', 43.0), (1631, 'Female', 61.0), (1632, 'Female', 57.0), (1635, 'Female', 16.0), (1636, 'Female', 60.0), (1638, 'Female', 69.0), (1639, 'Female', 22.0), (1641, 'Female', 45.0), (1644, 'Female', 30.0), (1645, 'Female', 78.0), (1646, 'Female', 68.0), (1647, 'Female', 16.0), (1648, 'Female', 38.0), (1649, 'Female', 39.0), (1650, 'Female', 51.0), (1656, 'Female', 50.0), (1657, 'Female', 27.0), (1658, 'Female', 73.0), (1659, 'Female', 65.0), (1660, 'Female', 76.0), (1661, 'Female', 53.0), (1662, 'Female', 65.0), (1665, 'Female', 45.0), (1668, 'Female', 35.0), (1670, 'Female', 31.0), (1674, 'Female', 22.0), (1675, 'Female', 82.0), (1676, 'Female', 50.0), (1677, 'Female', 47.0), (1680, 'Female', 12.0), (1681, 'Female', 63.0), (1682, 'Female', 78.0), (1685, 'Female', 81.0), (1686, 'Female', 39.0), (1687, 'Female', 59.0), (1689, 'Female', 37.0), (1690, 'Female', 78.0), (1691, 'Female', 75.0), (1693, 'Female', 48.0), (1694, 'Female', 13.0), (1697, 'Female', 24.0), (1698, 'Female', 76.0), (1702, 'Female', 26.0), (1703, 'Female', 56.0), (1710, 'Female', 38.0), (1711, 'Female', 12.0), (1712, 'Female', 22.0), (1713, 'Female', 0.64), (1715, 'Female', 78.0), (1716, 'Female', 23.0), (1717, 'Female', 35.0), (1718, 'Female', 78.0), (1723, 'Female', 51.0), (1724, 'Female', 21.0), (1726, 'Female', 25.0), (1727, 'Female', 36.0), (1728, 'Female', 8.0), (1729, 'Female', 48.0), (1731, 'Female', 60.0), (1733, 'Female', 60.0), (1735, 'Female', 9.0), (1736, 'Female', 45.0), (1739, 'Female', 52.0), (1740, 'Female', 47.0), (1741, 'Female', 82.0), (1744, 'Female', 79.0), (1746, 'Female', 25.0), (1747, 'Female', 26.0), (1749, 'Female', 42.0), (1752, 'Female', 78.0), (1755, 'Female', 55.0), (1756, 'Female', 68.0), (1757, 'Female', 47.0), (1758, 'Female', 47.0), (1759, 'Female', 51.0), (1761, 'Female', 78.0), (1763, 'Female', 45.0), (1764, 'Female', 53.0), (1765, 'Female', 12.0), (1766, 'Female', 56.0), (1767, 'Female', 29.0), (1768, 'Female', 55.0), (1769, 'Female', 49.0), (1770, 'Female', 23.0), (1771, 'Female', 53.0), (1773, 'Female', 56.0), (1774, 'Female', 61.0), (1775, 'Female', 45.0), (1777, 'Female', 47.0), (1778, 'Female', 3.0), (1780, 'Female', 68.0), (1781, 'Female', 76.0), (1783, 'Female', 30.0), (1784, 'Female', 44.0), (1787, 'Female', 31.0), (1789, 'Female', 32.0), (1791, 'Female', 44.0), (1793, 'Female', 37.0), (1796, 'Female', 25.0), (1797, 'Female', 19.0), (1799, 'Female', 27.0), (1801, 'Female', 20.0), (1806, 'Female', 26.0), (1809, 'Female', 5.0), (1810, 'Female', 59.0), (1811, 'Female', 45.0), (1813, 'Female', 80.0), (1815, 'Female', 8.0), (1816, 'Female', 68.0), (1817, 'Female', 5.0), (1821, 'Female', 60.0), (1822, 'Female', 58.0), (1823, 'Female', 43.0), (1824, 'Female', 50.0), (1825, 'Female', 1.48), (1826, 'Female', 5.0), (1828, 'Female', 67.0), (1829, 'Female', 21.0), (1830, 'Female', 36.0), (1831, 'Female', 70.0), (1833, 'Female', 52.0), (1834, 'Female', 28.0), (1835, 'Female', 41.0), (1837, 'Female', 33.0), (1838, 'Female', 31.0), (1839, 'Female', 42.0), (1842, 'Female', 70.0), (1844, 'Female', 58.0), (1845, 'Female', 25.0), (1846, 'Female', 1.4), (1847, 'Female', 47.0), (1848, 'Female', 14.0), (1849, 'Female', 82.0), (1853, 'Female', 61.0), (1854, 'Female', 15.0), (1855, 'Female', 1.56), (1859, 'Female', 53.0), (1861, 'Female', 31.0), (1862, 'Female', 29.0), (1863, 'Female', 5.0), (1868, 'Female', 40.0), (1869, 'Female', 78.0), (1870, 'Female', 39.0), (1871, 'Female', 17.0), (1874, 'Female', 13.0), (1876, 'Female', 42.0), (1878, 'Female', 3.0), (1880, 'Female', 41.0), (1882, 'Female', 20.0), (1883, 'Female', 25.0), (1885, 'Female', 37.0), (1886, 'Female', 51.0), (1888, 'Female', 38.0), (1892, 'Female', 32.0), (1893, 'Female', 32.0), (1894, 'Female', 63.0), (1897, 'Female', 25.0), (1898, 'Female', 80.0), (1899, 'Female', 31.0), (1905, 'Female', 21.0), (1906, 'Female', 78.0), (1913, 'Female', 50.0), (1915, 'Female', 20.0), (1916, 'Female', 22.0), (1918, 'Female', 57.0), (1919, 'Female', 29.0), (1920, 'Female', 32.0), (1921, 'Female', 54.0), (1923, 'Female', 58.0), (1924, 'Female', 41.0), (1926, 'Female', 32.0), (1927, 'Female', 54.0), (1928, 'Female', 79.0), (1930, 'Female', 45.0), (1932, 'Female', 45.0), (1934, 'Female', 65.0), (1935, 'Female', 57.0), (1941, 'Female', 52.0), (1942, 'Female', 63.0), (1943, 'Female', 57.0), (1944, 'Female', 50.0), (1946, 'Female', 35.0), (1947, 'Female', 35.0), (1949, 'Female', 42.0), (1950, 'Female', 62.0), (1951, 'Female', 3.0), (1952, 'Female', 43.0), (1953, 'Female', 52.0), (1956, 'Female', 81.0), (1957, 'Female', 15.0), (1961, 'Female', 30.0), (1962, 'Female', 40.0), (1963, 'Female', 47.0), (1964, 'Female', 66.0), (1966, 'Female', 41.0), (1967, 'Female', 63.0), (1968, 'Female', 12.0), (1970, 'Female', 46.0), (1971, 'Female', 8.0), (1974, 'Female', 4.0), (1975, 'Female', 26.0), (1977, 'Female', 48.0), (1978, 'Female', 24.0), (1982, 'Female', 42.0), (1983, 'Female', 57.0), (1984, 'Female', 51.0), (1987, 'Female', 27.0), (1988, 'Female', 53.0), (1989, 'Female', 52.0), (1990, 'Female', 68.0), (1992, 'Female', 23.0), (1993, 'Female', 43.0), (1995, 'Female', 52.0), (1996, 'Female', 21.0), (1998, 'Female', 49.0), (1999, 'Female', 27.0), (2000, 'Female', 52.0), (2001, 'Female', 22.0), (2006, 'Female', 29.0), (2007, 'Female', 49.0), (2012, 'Female', 56.0), (2015, 'Female', 25.0), (2018, 'Female', 44.0), (2019, 'Female', 36.0), (2023, 'Female', 39.0), (2024, 'Female', 71.0), (2025, 'Female', 18.0), (2028, 'Female', 27.0), (2032, 'Female', 29.0), (2033, 'Female', 26.0), (2034, 'Female', 23.0), (2036, 'Female', 43.0), (2037, 'Female', 49.0), (2039, 'Female', 26.0), (2040, 'Female', 10.0), (2042, 'Female', 41.0), (2045, 'Female', 54.0), (2047, 'Female', 53.0), (2048, 'Female', 55.0), (2050, 'Female', 72.0), (2051, 'Female', 42.0), (2053, 'Female', 55.0), (2054, 'Female', 47.0), (2056, 'Female', 49.0), (2057, 'Female', 12.0), (2062, 'Female', 77.0), (2065, 'Female', 67.0), (2067, 'Female', 2.0), (2068, 'Female', 38.0), (2070, 'Female', 34.0), (2072, 'Female', 57.0), (2073, 'Female', 17.0), (2074, 'Female', 71.0), (2075, 'Female', 19.0), (2081, 'Female', 62.0), (2083, 'Female', 9.0), (2084, 'Female', 26.0), (2087, 'Female', 40.0), (2090, 'Female', 59.0), (2091, 'Female', 31.0), (2092, 'Female', 69.0), (2094, 'Female', 56.0), (2095, 'Female', 80.0), (2096, 'Female', 60.0), (2097, 'Female', 40.0), (2098, 'Female', 30.0), (2099, 'Female', 66.0), (2101, 'Female', 37.0), (2102, 'Female', 41.0), (2103, 'Female', 34.0), (2104, 'Female', 18.0), (2107, 'Female', 3.0), (2108, 'Female', 57.0), (2113, 'Female', 27.0), (2115, 'Female', 73.0), (2116, 'Female', 52.0), (2117, 'Female', 65.0), (2122, 'Female', 48.0), (2123, 'Female', 77.0), (2124, 'Female', 34.0), (2125, 'Female', 33.0), (2129, 'Female', 46.0), (2130, 'Female', 1.0), (2131, 'Female', 5.0), (2133, 'Female', 49.0), (2134, 'Female', 45.0), (2135, 'Female', 13.0), (2136, 'Female', 76.0), (2138, 'Female', 20.0), (2139, 'Female', 9.0), (2140, 'Female', 78.0), (2142, 'Female', 55.0), (2143, 'Female', 43.0), (2144, 'Female', 16.0), (2147, 'Female', 71.0), (2149, 'Female', 18.0), (2150, 'Female', 47.0), (2155, 'Female', 56.0), (2156, 'Female', 44.0), (2157, 'Female', 6.0), (2158, 'Female', 78.0), (2159, 'Female', 32.0), (2160, 'Female', 40.0), (2161, 'Female', 63.0), (2164, 'Female', 82.0), (2165, 'Female', 17.0), (2166, 'Female', 34.0), (2168, 'Female', 32.0), (2170, 'Female', 47.0), (2171, 'Female', 34.0), (2175, 'Female', 64.0), (2178, 'Female', 65.0), (2180, 'Female', 61.0), (2184, 'Female', 47.0), (2185, 'Female', 71.0), (2187, 'Female', 28.0), (2188, 'Female', 7.0), (2189, 'Female', 68.0), (2191, 'Female', 75.0), (2194, 'Female', 34.0), (2196, 'Female', 8.0), (2197, 'Female', 50.0), (2199, 'Female', 1.16), (2200, 'Female', 76.0), (2203, 'Female', 67.0), (2204, 'Female', 27.0), (2206, 'Female', 51.0), (2208, 'Female', 56.0), (2209, 'Female', 18.0), (2210, 'Female', 63.0), (2211, 'Female', 31.0), (2212, 'Female', 37.0), (2213, 'Female', 64.0), (2215, 'Female', 1.8), (2218, 'Female', 69.0), (2219, 'Female', 13.0), (2222, 'Female', 78.0), (2223, 'Female', 21.0), (2226, 'Female', 82.0), (2227, 'Female', 80.0), (2228, 'Female', 21.0), (2229, 'Female', 46.0), (2230, 'Female', 14.0), (2232, 'Female', 3.0), (2235, 'Female', 41.0), (2236, 'Female', 67.0), (2237, 'Female', 5.0), (2239, 'Female', 63.0), (2240, 'Female', 73.0), (2245, 'Female', 30.0), (2246, 'Female', 80.0), (2247, 'Female', 64.0), (2249, 'Female', 36.0), (2251, 'Female', 35.0), (2252, 'Female', 28.0), (2254, 'Female', 12.0), (2256, 'Female', 27.0), (2257, 'Female', 62.0), (2259, 'Female', 30.0), (2261, 'Female', 28.0), (2263, 'Female', 16.0), (2264, 'Female', 29.0), (2266, 'Female', 26.0), (2268, 'Female', 29.0), (2269, 'Female', 29.0), (2270, 'Female', 33.0), (2271, 'Female', 19.0), (2272, 'Female', 10.0), (2273, 'Female', 3.0), (2274, 'Female', 60.0), (2275, 'Female', 16.0), (2277, 'Female', 41.0), (2278, 'Female', 19.0), (2279, 'Female', 79.0), (2280, 'Female', 41.0), (2282, 'Female', 51.0), (2283, 'Female', 33.0), (2284, 'Female', 33.0), (2287, 'Female', 61.0), (2293, 'Female', 42.0), (2294, 'Female', 56.0), (2296, 'Female', 40.0), (2297, 'Female', 58.0), (2298, 'Female', 52.0), (2300, 'Female', 47.0), (2301, 'Female', 34.0), (2302, 'Female', 82.0), (2303, 'Female', 31.0), (2304, 'Female', 58.0), (2305, 'Female', 47.0), (2307, 'Female', 13.0), (2310, 'Female', 7.0), (2311, 'Female', 37.0), (2314, 'Female', 77.0), (2316, 'Female', 3.0), (2318, 'Female', 49.0), (2322, 'Female', 60.0), (2323, 'Female', 56.0), (2324, 'Female', 73.0), (2325, 'Female', 65.0), (2326, 'Female', 34.0), (2328, 'Female', 80.0), (2330, 'Female', 80.0), (2331, 'Female', 65.0), (2332, 'Female', 24.0), (2333, 'Female', 33.0), (2335, 'Female', 57.0), (2336, 'Female', 19.0), (2338, 'Female', 39.0), (2339, 'Female', 14.0), (2340, 'Female', 60.0), (2341, 'Female', 3.0), (2342, 'Female', 57.0), (2344, 'Female', 65.0), (2345, 'Female', 67.0), (2346, 'Female', 60.0), (2347, 'Female', 36.0), (2349, 'Female', 26.0), (2354, 'Female', 50.0), (2357, 'Female', 54.0), (2359, 'Female', 36.0), (2360, 'Female', 38.0), (2361, 'Female', 7.0), (2362, 'Female', 5.0), (2365, 'Female', 30.0), (2366, 'Female', 39.0), (2367, 'Female', 17.0), (2368, 'Female', 14.0), (2369, 'Female', 52.0), (2371, 'Female', 2.0), (2374, 'Female', 50.0), (2375, 'Female', 48.0), (2378, 'Female', 54.0), (2379, 'Female', 81.0), (2380, 'Female', 15.0), (2382, 'Female', 59.0), (2383, 'Female', 48.0), (2385, 'Female', 44.0), (2386, 'Female', 39.0), (2390, 'Female', 38.0), (2391, 'Female', 43.0), (2393, 'Female', 58.0), (2398, 'Female', 54.0), (2402, 'Female', 38.0), (2405, 'Female', 20.0), (2406, 'Female', 12.0), (2408, 'Female', 42.0), (2412, 'Female', 45.0), (2415, 'Female', 67.0), (2417, 'Female', 24.0), (2420, 'Female', 13.0), (2422, 'Female', 66.0), (2426, 'Female', 45.0), (2428, 'Female', 31.0), (2431, 'Female', 14.0), (2432, 'Female', 56.0), (2435, 'Female', 28.0), (2437, 'Female', 11.0), (2438, 'Female', 63.0), (2439, 'Female', 59.0), (2441, 'Female', 35.0), (2444, 'Female', 48.0), (2447, 'Female', 72.0), (2449, 'Female', 73.0), (2450, 'Female', 24.0), (2453, 'Female', 78.0), (2454, 'Female', 77.0), (2455, 'Female', 59.0), (2458, 'Female', 35.0), (2459, 'Female', 75.0), (2460, 'Female', 80.0), (2461, 'Female', 35.0), (2462, 'Female', 22.0), (2465, 'Female', 62.0), (2466, 'Female', 13.0), (2470, 'Female', 44.0), (2472, 'Female', 59.0), (2473, 'Female', 35.0), (2474, 'Female', 52.0), (2475, 'Female', 76.0), (2476, 'Female', 51.0), (2477, 'Female', 79.0), (2478, 'Female', 69.0), (2479, 'Female', 78.0), (2484, 'Female', 56.0), (2486, 'Female', 69.0), (2487, 'Female', 25.0), (2490, 'Female', 58.0), (2491, 'Female', 28.0), (2492, 'Female', 46.0), (2494, 'Female', 37.0), (2496, 'Female', 14.0), (2497, 'Female', 60.0), (2499, 'Female', 65.0), (2502, 'Female', 53.0), (2503, 'Female', 50.0), (2504, 'Female', 23.0), (2505, 'Female', 45.0), (2506, 'Female', 0.8), (2509, 'Female', 82.0), (2511, 'Female', 79.0), (2512, 'Female', 74.0), (2514, 'Female', 50.0), (2515, 'Female', 34.0), (2517, 'Female', 52.0), (2518, 'Female', 67.0), (2519, 'Female', 62.0), (2520, 'Female', 18.0), (2521, 'Female', 75.0), (2522, 'Female', 42.0), (2525, 'Female', 18.0), (2527, 'Female', 66.0), (2529, 'Female', 18.0), (2531, 'Female', 44.0), (2533, 'Female', 36.0), (2534, 'Female', 61.0), (2535, 'Female', 7.0), (2536, 'Female', 15.0), (2539, 'Female', 2.0), (2541, 'Female', 25.0), (2544, 'Female', 63.0), (2545, 'Female', 53.0), (2546, 'Female', 33.0), (2547, 'Female', 23.0), (2548, 'Female', 23.0), (2549, 'Female', 81.0), (2551, 'Female', 69.0), (2553, 'Female', 70.0), (2554, 'Female', 48.0), (2557, 'Female', 2.0), (2559, 'Female', 69.0), (2560, 'Female', 52.0), (2563, 'Female', 2.0), (2565, 'Female', 38.0), (2567, 'Female', 45.0), (2568, 'Female', 1.24), (2569, 'Female', 77.0), (2570, 'Female', 46.0), (2571, 'Female', 50.0), (2572, 'Female', 52.0), (2574, 'Female', 40.0), (2575, 'Female', 59.0), (2577, 'Female', 42.0), (2578, 'Female', 26.0), (2580, 'Female', 34.0), (2581, 'Female', 54.0), (2582, 'Female', 57.0), (2583, 'Female', 1.56), (2584, 'Female', 50.0), (2585, 'Female', 64.0), (2592, 'Female', 5.0), (2595, 'Female', 67.0), (2596, 'Female', 17.0), (2598, 'Female', 31.0), (2600, 'Female', 12.0), (2601, 'Female', 30.0), (2602, 'Female', 65.0), (2603, 'Female', 23.0), (2606, 'Female', 53.0), (2607, 'Female', 58.0), (2610, 'Female', 46.0), (2611, 'Female', 41.0), (2613, 'Female', 43.0), (2615, 'Female', 36.0), (2616, 'Female', 36.0), (2617, 'Female', 47.0), (2618, 'Female', 18.0), (2623, 'Female', 46.0), (2624, 'Female', 59.0), (2625, 'Female', 48.0), (2626, 'Female', 18.0), (2627, 'Female', 56.0), (2629, 'Female', 41.0), (2630, 'Female', 67.0), (2631, 'Female', 60.0), (2632, 'Female', 47.0), (2633, 'Female', 24.0), (2635, 'Female', 17.0), (2636, 'Female', 45.0), (2637, 'Female', 24.0), (2638, 'Female', 79.0), (2640, 'Female', 27.0), (2642, 'Female', 34.0), (2643, 'Female', 50.0), (2644, 'Female', 58.0), (2646, 'Female', 50.0), (2647, 'Female', 80.0), (2650, 'Female', 29.0), (2651, 'Female', 6.0), (2653, 'Female', 16.0), (2654, 'Female', 44.0), (2655, 'Female', 23.0), (2657, 'Female', 34.0), (2659, 'Female', 42.0), (2660, 'Female', 40.0), (2662, 'Female', 39.0), (2663, 'Female', 42.0), (2668, 'Female', 73.0), (2669, 'Female', 62.0), (2670, 'Female', 62.0), (2671, 'Female', 51.0), (2673, 'Female', 57.0), (2674, 'Female', 8.0), (2675, 'Female', 69.0), (2676, 'Female', 16.0), (2677, 'Female', 56.0), (2678, 'Female', 41.0), (2679, 'Female', 1.24), (2680, 'Female', 42.0), (2683, 'Female', 8.0), (2687, 'Female', 63.0), (2689, 'Female', 13.0), (2690, 'Female', 20.0), (2691, 'Female', 71.0), (2692, 'Female', 50.0), (2693, 'Female', 76.0), (2694, 'Female', 41.0), (2696, 'Female', 78.0), (2698, 'Female', 43.0), (2699, 'Female', 49.0), (2702, 'Female', 41.0), (2707, 'Female', 44.0), (2709, 'Female', 52.0), (2710, 'Female', 57.0), (2712, 'Female', 16.0), (2713, 'Female', 35.0), (2714, 'Female', 5.0), (2719, 'Female', 50.0), (2720, 'Female', 43.0), (2721, 'Female', 27.0), (2723, 'Female', 8.0), (2725, 'Female', 23.0), (2727, 'Female', 37.0), (2730, 'Female', 26.0), (2731, 'Female', 58.0), (2735, 'Female', 79.0), (2740, 'Female', 40.0), (2741, 'Female', 24.0), (2743, 'Female', 82.0), (2745, 'Female', 81.0), (2746, 'Female', 79.0), (2747, 'Female', 62.0), (2749, 'Female', 60.0), (2752, 'Female', 70.0), (2753, 'Female', 17.0), (2754, 'Female', 56.0), (2755, 'Female', 3.0), (2760, 'Female', 44.0), (2765, 'Female', 56.0), (2769, 'Female', 31.0), (2774, 'Female', 23.0), (2776, 'Female', 16.0), (2777, 'Female', 26.0), (2778, 'Female', 44.0), (2779, 'Female', 23.0), (2780, 'Female', 38.0), (2781, 'Female', 18.0), (2782, 'Female', 63.0), (2787, 'Female', 41.0), (2788, 'Female', 34.0), (2790, 'Female', 35.0), (2794, 'Female', 33.0), (2796, 'Female', 37.0), (2797, 'Female', 50.0), (2798, 'Female', 76.0), (2799, 'Female', 72.0), (2804, 'Female', 73.0), (2805, 'Female', 29.0), (2807, 'Female', 27.0), (2808, 'Female', 36.0), (2809, 'Female', 61.0), (2810, 'Female', 9.0), (2811, 'Female', 25.0), (2812, 'Female', 68.0), (2813, 'Female', 26.0), (2814, 'Female', 17.0), (2818, 'Female', 18.0), (2820, 'Female', 5.0), (2823, 'Female', 32.0), (2825, 'Female', 70.0), (2826, 'Female', 51.0), (2827, 'Female', 39.0), (2830, 'Female', 34.0), (2832, 'Female', 54.0), (2833, 'Female', 22.0), (2834, 'Female', 21.0), (2835, 'Female', 4.0), (2836, 'Female', 26.0), (2838, 'Female', 33.0), (2840, 'Female', 75.0), (2842, 'Female', 82.0), (2843, 'Female', 61.0), (2844, 'Female', 62.0), (2846, 'Female', 31.0), (2848, 'Female', 76.0), (2850, 'Female', 15.0), (2853, 'Female', 47.0), (2854, 'Female', 47.0), (2855, 'Female', 60.0), (2857, 'Female', 47.0), (2859, 'Female', 35.0), (2860, 'Female', 57.0), (2865, 'Female', 35.0), (2866, 'Female', 10.0), (2868, 'Female', 44.0), (2869, 'Female', 41.0), (2870, 'Female', 7.0), (2872, 'Female', 60.0), (2873, 'Female', 49.0), (2874, 'Female', 45.0), (2875, 'Female', 55.0), (2876, 'Female', 54.0), (2877, 'Female', 39.0), (2879, 'Female', 28.0), (2880, 'Female', 70.0), (2884, 'Female', 26.0), (2885, 'Female', 57.0), (2886, 'Female', 16.0), (2889, 'Female', 36.0), (2890, 'Female', 40.0), (2893, 'Female', 78.0), (2894, 'Female', 22.0), (2897, 'Female', 20.0), (2900, 'Female', 23.0), (2901, 'Female', 28.0), (2902, 'Female', 6.0), (2903, 'Female', 37.0), (2904, 'Female', 10.0), (2905, 'Female', 34.0), (2906, 'Female', 60.0), (2907, 'Female', 22.0), (2908, 'Female', 52.0), (2910, 'Female', 10.0), (2912, 'Female', 29.0), (2913, 'Female', 69.0), (2914, 'Female', 62.0), (2916, 'Female', 79.0), (2919, 'Female', 41.0), (2921, 'Female', 8.0), (2922, 'Female', 24.0), (2923, 'Female', 61.0), (2924, 'Female', 40.0), (2925, 'Female', 22.0), (2926, 'Female', 80.0), (2927, 'Female', 60.0), (2928, 'Female', 57.0), (2929, 'Female', 55.0), (2930, 'Female', 39.0), (2931, 'Female', 51.0), (2933, 'Female', 32.0), (2934, 'Female', 45.0), (2935, 'Female', 49.0), (2937, 'Female', 74.0), (2938, 'Female', 72.0), (2939, 'Female', 57.0), (2941, 'Female', 55.0), (2944, 'Female', 6.0), (2945, 'Female', 76.0), (2946, 'Female', 38.0), (2947, 'Female', 50.0), (2948, 'Female', 75.0), (2949, 'Female', 1.16), (2953, 'Female', 13.0), (2955, 'Female', 63.0), (2956, 'Female', 29.0), (2958, 'Female', 49.0), (2961, 'Female', 61.0), (2962, 'Female', 52.0), (2965, 'Female', 43.0), (2966, 'Female', 4.0), (2967, 'Female', 45.0), (2968, 'Female', 62.0), (2970, 'Female', 72.0), (2972, 'Female', 9.0), (2973, 'Female', 31.0), (2974, 'Female', 20.0), (2976, 'Female', 23.0), (2977, 'Female', 57.0), (2979, 'Female', 64.0), (2980, 'Female', 26.0), (2983, 'Female', 66.0), (2985, 'Female', 77.0), (2988, 'Female', 16.0), (2989, 'Female', 73.0), (2992, 'Female', 54.0), (2993, 'Female', 42.0), (2994, 'Female', 52.0), (2997, 'Female', 28.0), (2998, 'Female', 79.0), (3000, 'Female', 75.0), (3003, 'Female', 48.0), (3005, 'Female', 56.0), (3007, 'Female', 55.0), (3008, 'Female', 65.0), (3009, 'Female', 69.0), (3010, 'Female', 29.0), (3011, 'Female', 64.0), (3012, 'Female', 16.0), (3013, 'Female', 75.0), (3014, 'Female', 17.0), (3018, 'Female', 82.0), (3022, 'Female', 33.0), (3023, 'Female', 57.0), (3025, 'Female', 52.0), (3026, 'Female', 3.0), (3028, 'Female', 33.0), (3030, 'Female', 24.0), (3032, 'Female', 72.0), (3033, 'Female', 37.0), (3034, 'Female', 36.0), (3035, 'Female', 22.0), (3036, 'Female', 68.0), (3038, 'Female', 35.0), (3039, 'Female', 32.0), (3040, 'Female', 52.0), (3042, 'Female', 82.0), (3045, 'Female', 57.0), (3047, 'Female', 63.0), (3048, 'Female', 50.0), (3049, 'Female', 12.0), (3051, 'Female', 74.0), (3053, 'Female', 66.0), (3055, 'Female', 70.0), (3056, 'Female', 62.0), (3060, 'Female', 42.0), (3061, 'Female', 49.0), (3063, 'Female', 61.0), (3065, 'Female', 73.0), (3066, 'Female', 64.0), (3068, 'Female', 81.0), (3069, 'Female', 47.0), (3072, 'Female', 2.0), (3075, 'Female', 26.0), (3076, 'Female', 45.0), (3077, 'Female', 57.0), (3078, 'Female', 78.0), (3081, 'Female', 51.0), (3082, 'Female', 54.0), (3083, 'Female', 36.0), (3084, 'Female', 57.0), (3085, 'Female', 25.0), (3086, 'Female', 7.0), (3087, 'Female', 76.0), (3088, 'Female', 45.0), (3089, 'Female', 66.0), (3090, 'Female', 45.0), (3091, 'Female', 79.0), (3092, 'Female', 25.0), (3093, 'Female', 53.0), (3094, 'Female', 35.0), (3095, 'Female', 78.0), (3096, 'Female', 32.0), (3098, 'Female', 26.0), (3099, 'Female', 34.0), (3100, 'Female', 65.0), (3101, 'Female', 15.0), (3102, 'Female', 17.0), (3103, 'Female', 71.0), (3104, 'Female', 42.0), (3106, 'Female', 75.0), (3109, 'Female', 75.0), (3110, 'Female', 61.0), (3112, 'Female', 27.0), (3113, 'Female', 55.0), (3114, 'Female', 2.0), (3115, 'Female', 51.0), (3116, 'Female', 45.0), (3119, 'Female', 48.0), (3120, 'Female', 79.0), (3121, 'Female', 50.0), (3122, 'Female', 79.0), (3124, 'Female', 36.0), (3125, 'Female', 27.0), (3126, 'Female', 22.0), (3127, 'Female', 5.0), (3130, 'Female', 26.0), (3132, 'Female', 33.0), (3135, 'Female', 44.0), (3136, 'Female', 56.0), (3137, 'Female', 67.0), (3144, 'Female', 68.0), (3149, 'Female', 37.0), (3150, 'Female', 5.0), (3151, 'Female', 25.0), (3153, 'Female', 79.0), (3157, 'Female', 2.0), (3159, 'Female', 1.48), (3160, 'Female', 49.0), (3161, 'Female', 2.0), (3162, 'Female', 82.0), (3163, 'Female', 81.0), (3165, 'Female', 1.08), (3168, 'Female', 58.0), (3169, 'Female', 8.0), (3170, 'Female', 9.0), (3171, 'Female', 34.0), (3172, 'Female', 23.0), (3173, 'Female', 74.0), (3176, 'Female', 56.0), (3179, 'Female', 38.0), (3181, 'Female', 41.0), (3182, 'Female', 50.0), (3183, 'Female', 41.0), (3185, 'Female', 62.0), (3187, 'Female', 59.0), (3191, 'Female', 72.0), (3192, 'Female', 45.0), (3194, 'Female', 19.0), (3196, 'Female', 58.0), (3200, 'Female', 20.0), (3205, 'Female', 23.0), (3211, 'Female', 39.0), (3212, 'Female', 22.0), (3215, 'Female', 65.0), (3216, 'Female', 8.0), (3217, 'Female', 51.0), (3219, 'Female', 48.0), (3220, 'Female', 17.0), (3221, 'Female', 75.0), (3222, 'Female', 51.0), (3224, 'Female', 41.0), (3225, 'Female', 75.0), (3227, 'Female', 72.0), (3228, 'Female', 52.0), (3230, 'Female', 28.0), (3231, 'Female', 78.0), (3232, 'Female', 82.0), (3234, 'Female', 31.0), (3235, 'Female', 53.0), (3237, 'Female', 67.0), (3238, 'Female', 17.0), (3239, 'Female', 29.0), (3240, 'Female', 56.0), (3241, 'Female', 15.0), (3242, 'Female', 29.0), (3243, 'Female', 79.0), (3244, 'Female', 82.0), (3248, 'Female', 36.0), (3251, 'Female', 60.0), (3252, 'Female', 63.0), (3255, 'Female', 26.0), (3256, 'Female', 18.0), (3260, 'Female', 47.0), (3261, 'Female', 80.0), (3262, 'Female', 24.0), (3263, 'Female', 72.0), (3265, 'Female', 51.0), (3266, 'Female', 82.0), (3269, 'Female', 15.0), (3270, 'Female', 53.0), (3271, 'Female', 78.0), (3272, 'Female', 62.0), (3274, 'Female', 41.0), (3275, 'Female', 78.0), (3277, 'Female', 1.48), (3281, 'Female', 68.0), (3283, 'Female', 59.0), (3286, 'Female', 40.0), (3287, 'Female', 41.0), (3288, 'Female', 21.0), (3289, 'Female', 1.88), (3291, 'Female', 67.0), (3293, 'Female', 42.0), (3294, 'Female', 54.0), (3295, 'Female', 25.0), (3298, 'Female', 72.0), (3299, 'Female', 14.0), (3300, 'Female', 38.0), (3302, 'Female', 23.0), (3303, 'Female', 63.0), (3306, 'Female', 8.0), (3307, 'Female', 28.0), (3308, 'Female', 49.0), (3309, 'Female', 24.0), (3311, 'Female', 69.0), (3312, 'Female', 58.0), (3315, 'Female', 34.0), (3316, 'Female', 64.0), (3318, 'Female', 61.0), (3320, 'Female', 57.0), (3323, 'Female', 57.0), (3324, 'Female', 38.0), (3325, 'Female', 13.0), (3326, 'Female', 37.0), (3328, 'Female', 13.0), (3330, 'Female', 11.0), (3331, 'Female', 68.0), (3333, 'Female', 24.0), (3334, 'Female', 44.0), (3335, 'Female', 46.0), (3336, 'Female', 66.0), (3337, 'Female', 61.0), (3338, 'Female', 16.0), (3339, 'Female', 37.0), (3340, 'Female', 43.0), (3341, 'Female', 27.0), (3346, 'Female', 77.0), (3348, 'Female', 35.0), (3349, 'Female', 30.0), (3350, 'Female', 48.0), (3351, 'Female', 15.0), (3352, 'Female', 26.0), (3353, 'Female', 38.0), (3356, 'Female', 55.0), (3359, 'Female', 21.0), (3360, 'Female', 24.0), (3364, 'Female', 51.0), (3366, 'Female', 46.0), (3367, 'Female', 79.0), (3368, 'Female', 11.0), (3369, 'Female', 61.0), (3371, 'Female', 21.0), (3372, 'Female', 71.0), (3373, 'Female', 13.0), (3375, 'Female', 61.0), (3376, 'Female', 49.0), (3379, 'Female', 44.0), (3381, 'Female', 20.0), (3383, 'Female', 44.0), (3386, 'Female', 23.0), (3387, 'Female', 7.0), (3388, 'Female', 74.0), (3390, 'Female', 80.0), (3391, 'Female', 35.0), (3392, 'Female', 43.0), (3395, 'Female', 45.0), (3399, 'Female', 67.0), (3401, 'Female', 1.32), (3404, 'Female', 55.0), (3405, 'Female', 40.0), (3407, 'Female', 33.0), (3409, 'Female', 74.0), (3413, 'Female', 5.0), (3415, 'Female', 27.0), (3417, 'Female', 20.0), (3418, 'Female', 71.0), (3419, 'Female', 65.0), (3421, 'Female', 25.0), (3423, 'Female', 50.0), (3424, 'Female', 1.24), (3425, 'Female', 55.0), (3426, 'Female', 38.0), (3427, 'Female', 72.0), (3430, 'Female', 69.0), (3431, 'Female', 61.0), (3432, 'Female', 34.0), (3433, 'Female', 43.0), (3434, 'Female', 62.0), (3436, 'Female', 37.0), (3437, 'Female', 64.0), (3440, 'Female', 75.0), (3441, 'Female', 27.0), (3442, 'Female', 49.0), (3444, 'Female', 36.0), (3446, 'Female', 64.0), (3448, 'Female', 15.0), (3449, 'Female', 1.64), (3452, 'Female', 76.0), (3455, 'Female', 18.0), (3458, 'Female', 4.0), (3460, 'Female', 27.0), (3461, 'Female', 50.0), (3466, 'Female', 53.0), (3467, 'Female', 73.0), (3469, 'Female', 62.0), (3470, 'Female', 78.0), (3471, 'Female', 51.0), (3473, 'Female', 40.0), (3474, 'Female', 35.0), (3476, 'Female', 46.0), (3477, 'Female', 51.0), (3478, 'Female', 53.0), (3480, 'Female', 43.0), (3483, 'Female', 20.0), (3484, 'Female', 53.0), (3485, 'Female', 1.32), (3486, 'Female', 22.0), (3487, 'Female', 75.0), (3488, 'Female', 66.0), (3490, 'Female', 26.0), (3491, 'Female', 14.0), (3492, 'Female', 32.0), (3494, 'Female', 42.0), (3498, 'Female', 52.0), (3501, 'Female', 74.0), (3503, 'Female', 80.0), (3504, 'Female', 31.0), (3505, 'Female', 28.0), (3506, 'Female', 25.0), (3508, 'Female', 51.0), (3513, 'Female', 42.0), (3514, 'Female', 4.0), (3516, 'Female', 5.0), (3519, 'Female', 69.0), (3521, 'Female', 7.0), (3522, 'Female', 2.0), (3523, 'Female', 80.0), (3524, 'Female', 69.0), (3526, 'Female', 75.0), (3527, 'Female', 60.0), (3528, 'Female', 75.0), (3529, 'Female', 10.0), (3532, 'Female', 3.0), (3533, 'Female', 31.0), (3534, 'Female', 59.0), (3535, 'Female', 31.0), (3536, 'Female', 58.0), (3537, 'Female', 57.0), (3540, 'Female', 40.0), (3542, 'Female', 55.0), (3543, 'Female', 39.0), (3544, 'Female', 42.0), (3548, 'Female', 8.0), (3549, 'Female', 1.48), (3550, 'Female', 1.88), (3551, 'Female', 69.0), (3552, 'Female', 13.0), (3553, 'Female', 53.0), (3554, 'Female', 16.0), (3556, 'Female', 7.0), (3561, 'Female', 54.0), (3562, 'Female', 14.0), (3567, 'Female', 39.0), (3568, 'Female', 69.0), (3570, 'Female', 73.0), (3571, 'Female', 54.0), (3573, 'Female', 26.0), (3574, 'Female', 41.0), (3576, 'Female', 46.0), (3578, 'Female', 29.0), (3580, 'Female', 21.0), (3581, 'Female', 56.0), (3582, 'Female', 14.0), (3583, 'Female', 78.0), (3584, 'Female', 36.0), (3585, 'Female', 57.0), (3590, 'Female', 54.0), (3592, 'Female', 62.0), (3593, 'Female', 28.0), (3594, 'Female', 50.0), (3596, 'Female', 33.0), (3598, 'Female', 25.0), (3599, 'Female', 25.0), (3600, 'Female', 37.0), (3603, 'Female', 60.0), (3606, 'Female', 38.0), (3607, 'Female', 11.0), (3608, 'Female', 63.0), (3610, 'Female', 17.0), (3611, 'Female', 19.0), (3612, 'Female', 40.0), (3614, 'Female', 69.0), (3615, 'Female', 46.0), (3617, 'Female', 63.0), (3618, 'Female', 3.0), (3619, 'Female', 1.8), (3620, 'Female', 18.0), (3621, 'Female', 46.0), (3622, 'Female', 8.0), (3623, 'Female', 53.0), (3624, 'Female', 38.0), (3625, 'Female', 74.0), (3626, 'Female', 24.0), (3630, 'Female', 32.0), (3632, 'Female', 40.0), (3633, 'Female', 19.0), (3634, 'Female', 28.0), (3635, 'Female', 44.0), (3637, 'Female', 50.0), (3638, 'Female', 18.0), (3640, 'Female', 5.0), (3641, 'Female', 39.0), (3642, 'Female', 65.0), (3643, 'Female', 26.0), (3645, 'Female', 34.0), (3646, 'Female', 45.0), (3648, 'Female', 40.0), (3650, 'Female', 2.0), (3651, 'Female', 61.0), (3653, 'Female', 32.0), (3655, 'Female', 51.0), (3656, 'Female', 52.0), (3657, 'Female', 75.0), (3658, 'Female', 40.0), (3661, 'Female', 32.0), (3662, 'Female', 55.0), (3663, 'Female', 23.0), (3664, 'Female', 52.0), (3668, 'Female', 23.0), (3671, 'Female', 14.0), (3672, 'Female', 45.0), (3673, 'Female', 57.0), (3674, 'Female', 35.0), (3675, 'Female', 8.0), (3676, 'Female', 42.0), (3679, 'Female', 43.0), (3680, 'Female', 8.0), (3683, 'Female', 27.0), (3684, 'Female', 47.0), (3685, 'Female', 53.0), (3689, 'Female', 19.0), (3691, 'Female', 45.0), (3693, 'Female', 54.0), (3696, 'Female', 66.0), (3697, 'Female', 73.0), (3698, 'Female', 31.0), (3699, 'Female', 1.88), (3700, 'Female', 58.0), (3702, 'Female', 60.0), (3706, 'Female', 3.0), (3708, 'Female', 67.0), (3709, 'Female', 35.0), (3710, 'Female', 26.0), (3711, 'Female', 47.0), (3713, 'Female', 1.64), (3715, 'Female', 28.0), (3716, 'Female', 45.0), (3719, 'Female', 65.0), (3723, 'Female', 50.0), (3724, 'Female', 0.56), (3725, 'Female', 30.0), (3726, 'Female', 31.0), (3729, 'Female', 68.0), (3730, 'Female', 63.0), (3732, 'Female', 54.0), (3734, 'Female', 29.0), (3737, 'Female', 57.0), (3738, 'Female', 2.0), (3741, 'Female', 47.0), (3743, 'Female', 65.0), (3745, 'Female', 66.0), (3748, 'Female', 64.0), (3749, 'Female', 38.0), (3750, 'Female', 7.0), (3751, 'Female', 63.0), (3754, 'Female', 65.0), (3756, 'Female', 62.0), (3759, 'Female', 50.0), (3760, 'Female', 73.0), (3761, 'Female', 23.0), (3762, 'Female', 32.0), (3763, 'Female', 38.0), (3764, 'Female', 50.0), (3765, 'Female', 39.0), (3766, 'Female', 7.0), (3767, 'Female', 15.0), (3769, 'Female', 32.0), (3773, 'Female', 11.0), (3776, 'Female', 34.0), (3778, 'Female', 24.0), (3779, 'Female', 39.0), (3780, 'Female', 55.0), (3781, 'Female', 16.0), (3783, 'Female', 38.0), (3785, 'Female', 38.0), (3786, 'Female', 52.0), (3788, 'Female', 80.0), (3790, 'Female', 13.0), (3791, 'Female', 54.0), (3793, 'Female', 61.0), (3797, 'Female', 38.0), (3801, 'Female', 61.0), (3803, 'Female', 41.0), (3806, 'Female', 45.0), (3808, 'Female', 52.0), (3809, 'Female', 51.0), (3810, 'Female', 56.0), (3811, 'Female', 49.0), (3813, 'Female', 51.0), (3816, 'Female', 28.0), (3817, 'Female', 57.0), (3819, 'Female', 41.0), (3820, 'Female', 72.0), (3824, 'Female', 27.0), (3825, 'Female', 31.0), (3826, 'Female', 24.0), (3828, 'Female', 28.0), (3829, 'Female', 24.0), (3830, 'Female', 30.0), (3832, 'Female', 1.64), (3835, 'Female', 27.0), (3836, 'Female', 30.0), (3841, 'Female', 61.0), (3842, 'Female', 18.0), (3843, 'Female', 44.0), (3848, 'Female', 81.0), (3849, 'Female', 38.0), (3850, 'Female', 58.0), (3852, 'Female', 64.0), (3853, 'Female', 38.0), (3854, 'Female', 56.0), (3857, 'Female', 34.0), (3858, 'Female', 79.0), (3860, 'Female', 60.0), (3861, 'Female', 42.0), (3862, 'Female', 59.0), (3863, 'Female', 54.0), (3866, 'Female', 14.0), (3869, 'Female', 13.0), (3870, 'Female', 48.0), (3872, 'Female', 74.0), (3874, 'Female', 64.0), (3875, 'Female', 26.0), (3877, 'Female', 74.0), (3878, 'Female', 0.48), (3879, 'Female', 41.0), (3882, 'Female', 36.0), (3885, 'Female', 69.0), (3887, 'Female', 69.0), (3888, 'Female', 32.0), (3889, 'Female', 25.0), (3892, 'Female', 28.0), (3893, 'Female', 16.0), (3895, 'Female', 57.0), (3896, 'Female', 61.0), (3897, 'Female', 74.0), (3898, 'Female', 70.0), (3899, 'Female', 8.0), (3900, 'Female', 49.0), (3903, 'Female', 10.0), (3904, 'Female', 34.0), (3907, 'Female', 45.0), (3911, 'Female', 8.0), (3912, 'Female', 82.0), (3914, 'Female', 42.0), (3915, 'Female', 27.0), (3917, 'Female', 31.0), (3919, 'Female', 57.0), (3920, 'Female', 78.0), (3924, 'Female', 17.0), (3925, 'Female', 61.0), (3926, 'Female', 62.0), (3927, 'Female', 14.0), (3928, 'Female', 62.0), (3929, 'Female', 56.0), (3931, 'Female', 59.0), (3935, 'Female', 35.0), (3936, 'Female', 36.0), (3939, 'Female', 31.0), (3940, 'Female', 56.0), (3941, 'Female', 36.0), (3942, 'Female', 41.0), (3943, 'Female', 50.0), (3944, 'Female', 42.0), (3948, 'Female', 25.0), (3950, 'Female', 42.0), (3952, 'Female', 2.0), (3953, 'Female', 78.0), (3954, 'Female', 36.0), (3958, 'Female', 48.0), (3961, 'Female', 28.0), (3962, 'Female', 80.0), (3965, 'Female', 59.0), (3966, 'Female', 43.0), (3967, 'Female', 47.0), (3973, 'Female', 81.0), (3978, 'Female', 49.0), (3979, 'Female', 53.0), (3980, 'Female', 26.0), (3981, 'Female', 14.0), (3983, 'Female', 20.0), (3984, 'Female', 18.0), (3986, 'Female', 72.0), (3987, 'Female', 52.0), (3990, 'Female', 33.0), (3991, 'Female', 37.0), (3992, 'Female', 54.0), (3993, 'Female', 5.0), (3997, 'Female', 35.0), (3998, 'Female', 20.0), (4001, 'Female', 79.0), (4004, 'Female', 27.0), (4005, 'Female', 28.0), (4006, 'Female', 67.0), (4007, 'Female', 35.0), (4008, 'Female', 78.0), (4009, 'Female', 20.0), (4010, 'Female', 43.0), (4011, 'Female', 27.0), (4012, 'Female', 45.0), (4013, 'Female', 11.0), (4014, 'Female', 31.0), (4015, 'Female', 30.0), (4016, 'Female', 27.0), (4017, 'Female', 34.0), (4019, 'Female', 3.0), (4022, 'Female', 44.0), (4023, 'Female', 59.0), (4025, 'Female', 5.0), (4026, 'Female', 31.0), (4028, 'Female', 12.0), (4030, 'Female', 49.0), (4032, 'Female', 15.0), (4033, 'Female', 81.0), (4035, 'Female', 24.0), (4037, 'Female', 13.0), (4038, 'Female', 16.0), (4040, 'Female', 11.0), (4041, 'Female', 55.0), (4044, 'Female', 34.0), (4045, 'Female', 52.0), (4046, 'Female', 50.0), (4047, 'Female', 37.0), (4048, 'Female', 55.0), (4049, 'Female', 2.0), (4051, 'Female', 27.0), (4052, 'Female', 53.0), (4054, 'Female', 3.0), (4055, 'Female', 20.0), (4057, 'Female', 31.0), (4058, 'Female', 63.0), (4059, 'Female', 49.0), (4060, 'Female', 72.0), (4061, 'Female', 50.0), (4066, 'Female', 33.0), (4067, 'Female', 12.0), (4070, 'Female', 65.0), (4071, 'Female', 43.0), (4072, 'Female', 22.0), (4074, 'Female', 81.0), (4075, 'Female', 10.0), (4076, 'Female', 5.0), (4077, 'Female', 24.0), (4078, 'Female', 45.0), (4079, 'Female', 46.0), (4082, 'Female', 12.0), (4085, 'Female', 40.0), (4088, 'Female', 32.0), (4092, 'Female', 17.0), (4093, 'Female', 31.0), (4094, 'Female', 36.0), (4095, 'Female', 5.0), (4096, 'Female', 29.0), (4097, 'Female', 2.0), (4098, 'Female', 62.0), (4099, 'Female', 45.0), (4100, 'Female', 18.0), (4101, 'Female', 29.0), (4102, 'Female', 52.0), (4104, 'Female', 71.0), (4106, 'Female', 43.0), (4108, 'Female', 60.0), (4109, 'Female', 54.0), (4112, 'Female', 11.0), (4113, 'Female', 75.0), (4114, 'Female', 64.0), (4115, 'Female', 78.0), (4116, 'Female', 14.0), (4117, 'Female', 66.0), (4119, 'Female', 44.0), (4122, 'Female', 61.0), (4123, 'Female', 54.0), (4124, 'Female', 22.0), (4126, 'Female', 67.0), (4128, 'Female', 45.0), (4129, 'Female', 65.0), (4132, 'Female', 45.0), (4133, 'Female', 28.0), (4135, 'Female', 31.0), (4136, 'Female', 70.0), (4137, 'Female', 17.0), (4142, 'Female', 80.0), (4144, 'Female', 79.0), (4145, 'Female', 60.0), (4146, 'Female', 12.0), (4147, 'Female', 36.0), (4148, 'Female', 54.0), (4150, 'Female', 2.0), (4151, 'Female', 28.0), (4152, 'Female', 38.0), (4157, 'Female', 66.0), (4158, 'Female', 45.0), (4159, 'Female', 29.0), (4161, 'Female', 48.0), (4162, 'Female', 68.0), (4163, 'Female', 57.0), (4164, 'Female', 29.0), (4165, 'Female', 30.0), (4166, 'Female', 47.0), (4167, 'Female', 73.0), (4168, 'Female', 66.0), (4169, 'Female', 39.0), (4171, 'Female', 52.0), (4172, 'Female', 34.0), (4173, 'Female', 79.0), (4174, 'Female', 39.0), (4176, 'Female', 26.0), (4177, 'Female', 37.0), (4178, 'Female', 66.0), (4179, 'Female', 16.0), (4180, 'Female', 51.0), (4185, 'Female', 75.0), (4186, 'Female', 40.0), (4187, 'Female', 52.0), (4188, 'Female', 13.0), (4189, 'Female', 44.0), (4190, 'Female', 37.0), (4192, 'Female', 48.0), (4193, 'Female', 81.0), (4194, 'Female', 76.0), (4195, 'Female', 58.0), (4196, 'Female', 11.0), (4197, 'Female', 9.0), (4199, 'Female', 37.0), (4200, 'Female', 16.0), (4202, 'Female', 32.0), (4203, 'Female', 26.0), (4204, 'Female', 21.0), (4205, 'Female', 45.0), (4206, 'Female', 40.0), (4207, 'Female', 41.0), (4208, 'Female', 71.0), (4210, 'Female', 7.0), (4211, 'Female', 27.0), (4212, 'Female', 22.0), (4213, 'Female', 79.0), (4214, 'Female', 38.0), (4215, 'Female', 64.0), (4217, 'Female', 23.0), (4221, 'Female', 19.0), (4223, 'Female', 70.0), (4224, 'Female', 45.0), (4225, 'Female', 34.0), (4227, 'Female', 0.72), (4230, 'Female', 38.0), (4232, 'Female', 38.0), (4233, 'Female', 41.0), (4234, 'Female', 26.0), (4235, 'Female', 48.0), (4238, 'Female', 27.0), (4239, 'Female', 18.0), (4241, 'Female', 7.0), (4242, 'Female', 54.0), (4244, 'Female', 61.0), (4246, 'Female', 40.0), (4247, 'Female', 71.0), (4248, 'Female', 57.0), (4249, 'Female', 13.0), (4250, 'Female', 21.0), (4251, 'Female', 63.0), (4253, 'Female', 78.0), (4254, 'Female', 66.0), (4258, 'Female', 42.0), (4260, 'Female', 79.0), (4262, 'Female', 73.0), (4263, 'Female', 42.0), (4264, 'Female', 37.0), (4266, 'Female', 74.0), (4267, 'Female', 59.0), (4268, 'Female', 82.0), (4270, 'Female', 19.0), (4272, 'Female', 53.0), (4273, 'Female', 62.0), (4275, 'Female', 49.0), (4277, 'Female', 53.0), (4278, 'Female', 10.0), (4280, 'Female', 40.0), (4281, 'Female', 3.0), (4282, 'Female', 12.0), (4284, 'Female', 43.0), (4285, 'Female', 28.0), (4288, 'Female', 14.0), (4289, 'Female', 63.0), (4290, 'Female', 29.0), (4291, 'Female', 48.0), (4295, 'Female', 40.0), (4297, 'Female', 43.0), (4298, 'Female', 59.0), (4299, 'Female', 78.0), (4300, 'Female', 27.0), (4301, 'Female', 49.0), (4303, 'Female', 17.0), (4305, 'Female', 36.0), (4308, 'Female', 8.0), (4309, 'Female', 56.0), (4312, 'Female', 43.0), (4314, 'Female', 62.0), (4319, 'Female', 39.0), (4321, 'Female', 60.0), (4322, 'Female', 46.0), (4324, 'Female', 12.0), (4326, 'Female', 2.0), (4327, 'Female', 82.0), (4328, 'Female', 32.0), (4329, 'Female', 62.0), (4330, 'Female', 75.0), (4331, 'Female', 81.0), (4332, 'Female', 37.0), (4333, 'Female', 28.0), (4334, 'Female', 25.0), (4336, 'Female', 11.0), (4338, 'Female', 43.0), (4339, 'Female', 56.0), (4340, 'Female', 37.0), (4342, 'Female', 4.0), (4343, 'Female', 51.0), (4345, 'Female', 56.0), (4346, 'Female', 60.0), (4348, 'Female', 32.0), (4349, 'Female', 45.0), (4351, 'Female', 68.0), (4352, 'Female', 51.0), (4354, 'Female', 63.0), (4356, 'Female', 33.0), (4357, 'Female', 56.0), (4359, 'Female', 30.0), (4361, 'Female', 1.8), (4364, 'Female', 17.0), (4368, 'Female', 42.0), (4369, 'Female', 69.0), (4370, 'Female', 22.0), (4371, 'Female', 25.0), (4374, 'Female', 50.0), (4376, 'Female', 37.0), (4377, 'Female', 31.0), (4378, 'Female', 52.0), (4379, 'Female', 56.0), (4380, 'Female', 43.0), (4382, 'Female', 2.0), (4383, 'Female', 16.0), (4385, 'Female', 40.0), (4390, 'Female', 53.0), (4394, 'Female', 51.0), (4395, 'Female', 0.4), (4396, 'Female', 76.0), (4397, 'Female', 46.0), (4398, 'Female', 23.0), (4400, 'Female', 53.0), (4402, 'Female', 62.0), (4404, 'Female', 82.0), (4405, 'Female', 33.0), (4410, 'Female', 18.0), (4411, 'Female', 29.0), (4412, 'Female', 56.0), (4417, 'Female', 31.0), (4420, 'Female', 19.0), (4423, 'Female', 40.0), (4424, 'Female', 26.0), (4425, 'Female', 17.0), (4426, 'Female', 30.0), (4427, 'Female', 19.0), (4428, 'Female', 78.0), (4429, 'Female', 55.0), (4432, 'Female', 35.0), (4434, 'Female', 55.0), (4437, 'Female', 45.0), (4438, 'Female', 34.0), (4441, 'Female', 62.0), (4445, 'Female', 53.0), (4446, 'Female', 44.0), (4448, 'Female', 67.0), (4449, 'Female', 48.0), (4453, 'Female', 1.32), (4454, 'Female', 45.0), (4455, 'Female', 63.0), (4456, 'Female', 33.0), (4458, 'Female', 0.48), (4459, 'Female', 63.0), (4461, 'Female', 57.0), (4466, 'Female', 78.0), (4467, 'Female', 59.0), (4468, 'Female', 10.0), (4471, 'Female', 55.0), (4472, 'Female', 20.0), (4473, 'Female', 38.0), (4474, 'Female', 33.0), (4477, 'Female', 32.0), (4478, 'Female', 68.0), (4480, 'Female', 24.0), (4483, 'Female', 81.0), (4485, 'Female', 69.0), (4486, 'Female', 42.0), (4489, 'Female', 28.0), (4490, 'Female', 66.0), (4491, 'Female', 66.0), (4492, 'Female', 47.0), (4493, 'Female', 78.0), (4494, 'Female', 65.0), (4496, 'Female', 68.0), (4497, 'Female', 65.0), (4498, 'Female', 70.0), (4499, 'Female', 59.0), (4501, 'Female', 32.0), (4504, 'Female', 61.0), (4505, 'Female', 48.0), (4506, 'Female', 1.16), (4507, 'Female', 50.0), (4510, 'Female', 43.0), (4516, 'Female', 39.0), (4517, 'Female', 24.0), (4519, 'Female', 61.0), (4520, 'Female', 78.0), (4522, 'Female', 23.0), (4527, 'Female', 82.0), (4528, 'Female', 19.0), (4530, 'Female', 79.0), (4531, 'Female', 23.0), (4532, 'Female', 77.0), (4533, 'Female', 78.0), (4534, 'Female', 24.0), (4535, 'Female', 81.0), (4536, 'Female', 46.0), (4537, 'Female', 29.0), (4538, 'Female', 59.0), (4540, 'Female', 17.0), (4541, 'Female', 8.0), (4542, 'Female', 23.0), (4543, 'Female', 45.0), (4545, 'Female', 78.0), (4547, 'Female', 35.0), (4548, 'Female', 54.0), (4549, 'Female', 71.0), (4550, 'Female', 24.0), (4555, 'Female', 20.0), (4557, 'Female', 60.0), (4558, 'Female', 12.0), (4559, 'Female', 28.0), (4560, 'Female', 55.0), (4561, 'Female', 51.0), (4562, 'Female', 16.0), (4565, 'Female', 59.0), (4566, 'Female', 9.0), (4567, 'Female', 34.0), (4568, 'Female', 47.0), (4572, 'Female', 76.0), (4574, 'Female', 3.0), (4575, 'Female', 76.0), (4577, 'Female', 44.0), (4578, 'Female', 17.0), (4579, 'Female', 73.0), (4582, 'Female', 18.0), (4584, 'Female', 8.0), (4586, 'Female', 40.0), (4589, 'Female', 58.0), (4590, 'Female', 48.0), (4591, 'Female', 17.0), (4592, 'Female', 23.0), (4594, 'Female', 81.0), (4595, 'Female', 16.0), (4599, 'Female', 39.0), (4600, 'Female', 64.0), (4608, 'Female', 10.0), (4609, 'Female', 74.0), (4612, 'Female', 43.0), (4613, 'Female', 39.0), (4614, 'Female', 37.0), (4616, 'Female', 36.0), (4620, 'Female', 61.0), (4621, 'Female', 45.0), (4622, 'Female', 17.0), (4623, 'Female', 17.0), (4624, 'Female', 19.0), (4625, 'Female', 54.0), (4626, 'Female', 51.0), (4627, 'Female', 44.0), (4628, 'Female', 82.0), (4629, 'Female', 49.0), (4630, 'Female', 34.0), (4631, 'Female', 63.0), (4632, 'Female', 79.0), (4633, 'Female', 81.0), (4634, 'Female', 14.0), (4635, 'Female', 31.0), (4639, 'Female', 22.0), (4640, 'Female', 1.32), (4641, 'Female', 20.0), (4642, 'Female', 41.0), (4643, 'Female', 48.0), (4647, 'Female', 51.0), (4649, 'Female', 31.0), (4653, 'Female', 4.0), (4655, 'Female', 34.0), (4656, 'Female', 30.0), (4657, 'Female', 7.0), (4660, 'Female', 61.0), (4661, 'Female', 55.0), (4662, 'Female', 14.0), (4663, 'Female', 36.0), (4664, 'Female', 57.0), (4665, 'Female', 20.0), (4667, 'Female', 43.0), (4669, 'Female', 1.08), (4670, 'Female', 49.0), (4671, 'Female', 53.0), (4672, 'Female', 18.0), (4673, 'Female', 13.0), (4675, 'Female', 37.0), (4677, 'Female', 45.0), (4678, 'Female', 50.0), (4679, 'Female', 12.0), (4681, 'Female', 5.0), (4683, 'Female', 41.0), (4684, 'Female', 41.0), (4685, 'Female', 47.0), (4686, 'Female', 57.0), (4689, 'Female', 65.0), (4690, 'Female', 80.0), (4691, 'Female', 58.0), (4692, 'Female', 74.0), (4693, 'Female', 62.0), (4695, 'Female', 21.0), (4696, 'Female', 17.0), (4697, 'Female', 49.0), (4698, 'Female', 24.0), (4699, 'Female', 56.0), (4700, 'Female', 26.0), (4702, 'Female', 42.0), (4703, 'Female', 34.0), (4704, 'Female', 56.0), (4705, 'Female', 39.0), (4706, 'Female', 77.0), (4707, 'Female', 12.0), (4711, 'Female', 31.0), (4712, 'Female', 14.0), (4713, 'Female', 5.0), (4714, 'Female', 60.0), (4715, 'Female', 53.0), (4717, 'Female', 69.0), (4718, 'Female', 39.0), (4719, 'Female', 0.32), (4720, 'Female', 34.0), (4721, 'Female', 80.0), (4723, 'Female', 45.0), (4724, 'Female', 41.0), (4729, 'Female', 75.0), (4730, 'Female', 47.0), (4731, 'Female', 15.0), (4733, 'Female', 71.0), (4735, 'Female', 10.0), (4739, 'Female', 53.0), (4741, 'Female', 81.0), (4744, 'Female', 62.0), (4745, 'Female', 62.0), (4746, 'Female', 59.0), (4747, 'Female', 19.0), (4748, 'Female', 51.0), (4750, 'Female', 26.0), (4754, 'Female', 44.0), (4755, 'Female', 31.0), (4756, 'Female', 17.0), (4757, 'Female', 23.0), (4759, 'Female', 46.0), (4760, 'Female', 81.0), (4762, 'Female', 50.0), (4763, 'Female', 34.0), (4765, 'Female', 50.0), (4766, 'Female', 49.0), (4767, 'Female', 2.0), (4769, 'Female', 34.0), (4770, 'Female', 22.0), (4771, 'Female', 11.0), (4773, 'Female', 60.0), (4775, 'Female', 46.0), (4777, 'Female', 63.0), (4778, 'Female', 50.0), (4781, 'Female', 36.0), (4782, 'Female', 18.0), (4783, 'Female', 44.0), (4784, 'Female', 4.0), (4785, 'Female', 60.0), (4786, 'Female', 19.0), (4790, 'Female', 39.0), (4793, 'Female', 79.0), (4794, 'Female', 11.0), (4796, 'Female', 43.0), (4797, 'Female', 44.0), (4798, 'Female', 37.0), (4799, 'Female', 34.0), (4800, 'Female', 59.0), (4801, 'Female', 40.0), (4802, 'Female', 8.0), (4803, 'Female', 24.0), (4806, 'Female', 70.0), (4807, 'Female', 68.0), (4809, 'Female', 17.0), (4810, 'Female', 21.0), (4811, 'Female', 38.0), (4812, 'Female', 59.0), (4813, 'Female', 79.0), (4814, 'Female', 50.0), (4815, 'Female', 72.0), (4816, 'Female', 54.0), (4817, 'Female', 44.0), (4818, 'Female', 48.0), (4820, 'Female', 44.0), (4821, 'Female', 61.0), (4822, 'Female', 58.0), (4823, 'Female', 81.0), (4826, 'Female', 35.0), (4827, 'Female', 40.0), (4828, 'Female', 37.0), (4830, 'Female', 35.0), (4831, 'Female', 38.0), (4832, 'Female', 26.0), (4834, 'Female', 72.0), (4836, 'Female', 20.0), (4837, 'Female', 1.24), (4838, 'Female', 26.0), (4839, 'Female', 79.0), (4840, 'Female', 78.0), (4842, 'Female', 46.0), (4849, 'Female', 44.0), (4851, 'Female', 51.0), (4852, 'Female', 41.0), (4854, 'Female', 42.0), (4855, 'Female', 6.0), (4856, 'Female', 46.0), (4857, 'Female', 47.0), (4858, 'Female', 25.0), (4859, 'Female', 40.0), (4860, 'Female', 49.0), (4862, 'Female', 61.0), (4865, 'Female', 82.0), (4868, 'Female', 31.0), (4869, 'Female', 37.0), (4872, 'Female', 21.0), (4873, 'Female', 5.0), (4875, 'Female', 35.0), (4876, 'Female', 24.0), (4877, 'Female', 52.0), (4879, 'Female', 34.0), (4881, 'Female', 8.0), (4883, 'Female', 29.0), (4885, 'Female', 44.0), (4886, 'Female', 19.0), (4888, 'Female', 72.0), (4889, 'Female', 51.0), (4890, 'Female', 63.0), (4891, 'Female', 64.0), (4892, 'Female', 0.72), (4902, 'Female', 45.0), (4903, 'Female', 57.0), (4904, 'Female', 18.0), (4905, 'Female', 13.0), (4906, 'Female', 81.0), (4907, 'Female', 35.0), (4909, 'Female', 44.0)]\n",
      "Dice Result: [(6, 1, 1, 'Never smoked', 70.09, 27.4), (30, 1, 1, 'Formerly smoked', 84.03, 26.5), (97, 1, 1, 'Never smoked', 216.94, 30.9), (121, 1, 1, 'Never smoked', 72.17, 36.8), (151, 1, 1, 'Smokes', 112.24, 37.4), (154, 1, 1, 'Formerly smoked', 215.94, 27.9), (159, 1, 1, 'Smokes', 271.74, 31.1), (165, 1, 1, 'Formerly smoked', 175.29, 31.5), (181, 1, 1, 'Smokes', 210.4, 40.0), (183, 1, 1, 'Smokes', 250.89, 28.1), (205, 1, 1, 'Formerly smoked', 247.51, 40.5), (310, 1, 1, 'Formerly smoked', 200.28, 30.0), (341, 1, 1, 'Never smoked', 109.51, 41.9), (779, 1, 1, 'Never smoked', 86.06, 34.8), (836, 1, 1, 'Smokes', 84.31, 30.3), (913, 1, 1, 'Formerly smoked', 195.03, 28.7), (933, 1, 1, 'Formerly smoked', 148.24, 32.2), (1005, 1, 1, 'Unknown', 115.52, 34.4), (1010, 1, 1, 'Never smoked', 254.63, 31.0), (1128, 1, 1, 'Unknown', 230.68, 37.7), (1217, 1, 1, 'Formerly smoked', 150.45, 44.5), (1312, 1, 1, 'Formerly smoked', 246.53, 27.2), (1410, 1, 1, 'Never smoked', 201.01, 28.0), (1480, 1, 1, 'Formerly smoked', 123.95, 34.8), (1645, 1, 1, 'Never smoked', 227.16, 41.7), (1660, 1, 1, 'Smokes', 102.08, 31.0), (1764, 1, 1, 'Smokes', 196.25, 24.9), (1776, 1, 1, 'Formerly smoked', 86.68, 27.7), (1981, 1, 1, 'Never smoked', 94.47, 43.9), (1997, 1, 1, 'Formerly smoked', 199.88, 29.6), (2317, 1, 1, 'Smokes', 92.9, 30.4), (2379, 1, 1, 'Never smoked', 59.28, 28.1), (2403, 1, 1, 'Unknown', 221.43, 32.5), (2584, 1, 1, 'Smokes', 79.79, 25.6), (2593, 1, 1, 'Never smoked', 93.62, 35.8), (2767, 1, 1, 'Never smoked', 106.41, 27.3), (2804, 1, 1, 'Formerly smoked', 67.38, 32.8), (2824, 1, 1, 'Smokes', 64.92, 32.1), (2845, 1, 1, 'Never smoked', 81.51, 32.6), (2927, 1, 1, 'Never smoked', 220.24, 36.8), (2932, 1, 1, 'Smokes', 80.92, 28.9), (3164, 1, 1, 'Never smoked', 220.64, 30.0), (3243, 1, 1, 'Smokes', 83.61, 21.4), (3244, 1, 1, 'Never smoked', 73.19, 33.5), (3278, 1, 1, 'Smokes', 67.06, 26.7), (3303, 1, 1, 'Never smoked', 174.43, 24.3), (3427, 1, 1, 'Formerly smoked', 198.32, 31.3), (3586, 1, 1, 'Never smoked', 205.23, 22.0), (3712, 1, 1, 'Formerly smoked', 217.94, 24.1), (3820, 1, 1, 'Formerly smoked', 217.79, 26.1), (3973, 1, 1, 'Formerly smoked', 59.11, 20.7), (4103, 1, 1, 'Formerly smoked', 78.11, 34.7), (4208, 1, 1, 'Unknown', 221.24, 24.2), (4367, 1, 1, 'Never smoked', 77.16, 26.3), (4404, 1, 1, 'Never smoked', 101.56, 31.5), (4451, 1, 1, 'Formerly smoked', 60.98, 34.9), (4594, 1, 1, 'Smokes', 126.34, 27.4), (4664, 1, 1, 'Formerly smoked', 231.72, 45.7)]\n",
      "Combined OLAP Result: [('Female', 'Formerly smoked', 53.27947598253275), ('Female', 'Never smoked', 46.82543640897756), ('Female', 'Smokes', 45.53411764705882), ('Female', 'Unknown', 31.756251541307034), ('Male', 'Formerly smoked', 56.992063492063494), ('Male', 'Never smoked', 45.80893682588598), ('Male', 'Smokes', 48.96474358974359), ('Male', 'Unknown', 26.801785714285707), ('Other', 'Formerly smoked', 26.0)]\n",
      "Iceberg Result: [('Seniors', 133), ('Adults', 75), ('Children', 1)]\n",
      "Windowing Result: [('Adults', 30.700224358974367, 1), ('Seniors', 29.557082896117553, 2), ('Children', 21.392703349282268, 3)]\n"
     ]
    }
   ],
   "source": [
    "from configparser import ConfigParser\n",
    "import psycopg2\n",
    "from typing import Dict\n",
    "\n",
    "\n",
    "def load_connection_info(\n",
    "    ini_filename: str\n",
    ") -> Dict[str, str]:\n",
    "    parser = ConfigParser()\n",
    "    parser.read(ini_filename)\n",
    "    # Create a dictionary of the variables stored under the \"postgresql\" section of the .ini\n",
    "    conn_info = {param[0]: param[1] for param in parser.items(\"postgresql\")}\n",
    "    return conn_info\n",
    "\n",
    "\n",
    "def create_db(\n",
    "    conn_info: Dict[str, str],\n",
    ") -> None:\n",
    "    # Connect just to PostgreSQL with the user loaded from the .ini file\n",
    "    psql_connection_string = f\"user={conn_info['user']} password={conn_info['password']}\"\n",
    "    conn = psycopg2.connect(psql_connection_string)\n",
    "    cur = conn.cursor()\n",
    "\n",
    "    # \"CREATE DATABASE\" requires automatic commits\n",
    "    conn.autocommit = True\n",
    "    sql_query = f\"CREATE DATABASE {conn_info['database']}\"\n",
    "\n",
    "    try:\n",
    "        cur.execute(sql_query)\n",
    "    except Exception as e:\n",
    "        print(f\"{type(e).__name__}: {e}\")\n",
    "        print(f\"Query: {cur.query}\")\n",
    "        cur.close()\n",
    "    else:\n",
    "        # Revert autocommit settings\n",
    "        conn.autocommit = False\n",
    "\n",
    "\n",
    "def create_table(\n",
    "    sql_query: str,\n",
    "    conn: psycopg2.extensions.connection,\n",
    "    cur: psycopg2.extensions.cursor\n",
    ") -> None:\n",
    "    try:\n",
    "        # Execute the table creation query\n",
    "        cur.execute(sql_query)\n",
    "    except Exception as e:\n",
    "        print(f\"{type(e).__name__}: {e}\")\n",
    "        print(f\"Query: {cur.query}\")\n",
    "        conn.rollback()\n",
    "        cur.close()\n",
    "    else:\n",
    "        # To take effect, changes need be committed to the database\n",
    "        conn.commit()\n",
    "\n",
    "\n",
    "if __name__ == \"__main__\":\n",
    "    # host, database, user, password\n",
    "    conn_info = load_connection_info(\"db.ini\")\n",
    "\n",
    "    # Create the desired database\n",
    "    create_db(conn_info)\n",
    "\n",
    "    # Connect to the database created\n",
    "    connection = psycopg2.connect(**conn_info)\n",
    "    cursor = connection.cursor()\n",
    "\n",
    "    # Create the \"demographic_info\" table\n",
    "    demographic_info = \"\"\"\n",
    "        CREATE TABLE demographic_info (\n",
    "            demo_key INTEGER PRIMARY KEY,\n",
    "            ever_married TEXT,\n",
    "            work_type TEXT,\n",
    "            residence_type TEXT\n",
    "        )\n",
    "    \"\"\"\n",
    "    create_table(demographic_info, connection, cursor)\n",
    "\n",
    "    # Create the \"health_attribute\" table\n",
    "    health_attribute = \"\"\"\n",
    "        CREATE TABLE health_attribute (\n",
    "            health_key INTEGER PRIMARY KEY,\n",
    "            hypertension INTEGER,\n",
    "            heart_disease INTEGER,\n",
    "            smoking_status TEXT,\n",
    "            avg_glucose_level DOUBLE PRECISION,\n",
    "            bmi DOUBLE PRECISION\n",
    "        )\n",
    "    \"\"\"\n",
    "    create_table(health_attribute, connection, cursor)\n",
    "\n",
    "    # Create the \"personal_attributes\" table\n",
    "    personal_attributes = \"\"\"\n",
    "        CREATE TABLE personal_attributes (\n",
    "            personal_key INTEGER PRIMARY KEY,\n",
    "            gender TEXT,\n",
    "            age DOUBLE PRECISION\n",
    "        )\n",
    "    \"\"\"\n",
    "    create_table(personal_attributes, connection, cursor)\n",
    "\n",
    "    # Create the \"fact_table\" table\n",
    "    fact_table = \"\"\"\n",
    "        CREATE TABLE fact_table (\n",
    "            demo_key INTEGER REFERENCES demographic_info(demo_key),\n",
    "            health_key INTEGER REFERENCES health_attribute(health_key),\n",
    "            personal_key INTEGER REFERENCES personal_attributes(personal_key),\n",
    "            age DOUBLE PRECISION,\n",
    "            bmi DOUBLE PRECISION,\n",
    "            risk_factor_count INTEGER,\n",
    "            stroke INTEGER \n",
    "        )\n",
    "    \"\"\"\n",
    "    create_table(fact_table, connection, cursor)\n",
    "\n",
    "    # Adding personal attribute table\n",
    "    for i, row in personal_attribute_table.iterrows():\n",
    "        personal_attr_sql = \"INSERT INTO personal_attributes (personal_key, gender, age) VALUES (%s, %s, %s)\"\n",
    "        cursor.execute(personal_attr_sql, tuple(row))\n",
    "        connection.commit()\n",
    "\n",
    "    # Adding demographic info table\n",
    "    for i, row in demographic_info_table.iterrows():\n",
    "        demographic_info_sql = \"INSERT INTO demographic_info (demo_key,ever_married,work_type,residence_type) VALUES (%s, %s, %s,%s)\"\n",
    "        cursor.execute(demographic_info_sql, tuple(row))\n",
    "        connection.commit()\n",
    "\n",
    "    # Adding health attribute table\n",
    "    for i, row in health_attribute_table.iterrows():\n",
    "        health_attribute_sql = \"INSERT INTO health_attribute (health_key,hypertension,heart_disease,smoking_status,avg_glucose_level,bmi) VALUES (%s, %s, %s,%s,%s,%s)\"\n",
    "        cursor.execute(health_attribute_sql, tuple(row))\n",
    "        connection.commit()\n",
    "\n",
    "    # Adding fact table\n",
    "    for i, row in fact_table_dataframe.iterrows():\n",
    "        fact_table_sql = \"INSERT INTO fact_table (demo_key, health_key , personal_key, age, bmi, risk_factor_count, stroke) VALUES (%s, %s, %s,%s, %s, %s, %s)\"\n",
    "        cursor.execute(fact_table_sql, tuple(row))\n",
    "        connection.commit()\n",
    "\n",
    "    # Drill down (e.g., from age to age groups) query\n",
    "    cursor.execute(\"\"\"\n",
    "        SELECT \n",
    "            CASE\n",
    "                WHEN age < 18 THEN 'Children'\n",
    "                WHEN age BETWEEN 18 AND 64 THEN 'Adults'\n",
    "                ELSE 'Seniors'\n",
    "            END as age_group,\n",
    "            COUNT(*) as num_records\n",
    "        FROM personal_attributes\n",
    "        GROUP BY age_group\n",
    "        ORDER BY age_group;\n",
    "    \"\"\")\n",
    "    drill_down_result = cursor.fetchall()\n",
    "    print(\"Drill Down Result:\", drill_down_result)\n",
    "    # Roll up (e.g., from gender to total) query\n",
    "    cursor.execute(\"\"\"\n",
    "        SELECT gender, COUNT(*) as num_records\n",
    "        FROM personal_attributes\n",
    "        GROUP BY ROLLUP(gender)\n",
    "        ORDER BY gender;\n",
    "    \"\"\")\n",
    "    roll_up_result = cursor.fetchall()\n",
    "    print(\"Roll Up Result:\", roll_up_result)\n",
    "\n",
    "    # Slice (e.g., select records with female gender) query\n",
    "    cursor.execute(\"\"\"\n",
    "        SELECT *\n",
    "        FROM personal_attributes\n",
    "        WHERE gender = 'Female';\n",
    "    \"\"\")\n",
    "    slice_result = cursor.fetchall()\n",
    "    print(\"Slice Result:\", slice_result)\n",
    "\n",
    "    # Dice (e.g., select records with hypertension and heart disease) query\n",
    "    cursor.execute(\"\"\"\n",
    "        SELECT *\n",
    "        FROM health_attribute\n",
    "        WHERE hypertension = 1 AND heart_disease = 1;\n",
    "    \"\"\")\n",
    "    dice_result = cursor.fetchall()\n",
    "    print(\"Dice Result:\", dice_result)\n",
    "\n",
    "    # Combining OLAP operations query\n",
    "    cursor.execute(\"\"\"\n",
    "        SELECT p.gender, h.smoking_status, AVG(p.age) as avg_age\n",
    "        FROM personal_attributes p\n",
    "        JOIN fact_table f ON p.personal_key = f.personal_key\n",
    "        JOIN health_attribute h ON f.health_key = h.health_key\n",
    "        GROUP BY p.gender, h.smoking_status\n",
    "        ORDER BY p.gender, h.smoking_status;\n",
    "    \"\"\")\n",
    "    combined_olap_result = cursor.fetchall()\n",
    "    print(\"Combined OLAP Result:\", combined_olap_result)\n",
    "\n",
    "    # Iceberg query\n",
    "    cursor.execute(\"\"\"\n",
    "        SELECT \n",
    "            CASE\n",
    "                WHEN age < 18 THEN 'Children'\n",
    "                WHEN age BETWEEN 18 AND 64 THEN 'Adults'\n",
    "                ELSE 'Seniors'\n",
    "            END as age_group,\n",
    "            COUNT(*) as num_stroke_risk\n",
    "        FROM fact_table\n",
    "        WHERE stroke = 1\n",
    "        GROUP BY age_group\n",
    "        ORDER BY num_stroke_risk DESC\n",
    "        LIMIT 5;\n",
    "    \"\"\")\n",
    "    iceberg_result = cursor.fetchall()\n",
    "    print(\"Iceberg Result:\", iceberg_result)\n",
    "\n",
    "    # Windowing query\n",
    "    cursor.execute(\"\"\"\n",
    "        SELECT age_group, AVG(bmi) as avg_bmi, RANK() OVER (ORDER BY AVG(bmi) DESC) as rank\n",
    "        FROM (\n",
    "            SELECT \n",
    "                f.bmi,\n",
    "                CASE\n",
    "                    WHEN f.age < 18 THEN 'Children'\n",
    "                    WHEN f.age BETWEEN 18 AND 64 THEN 'Adults'\n",
    "                    ELSE 'Seniors'\n",
    "                END as age_group\n",
    "            FROM fact_table f\n",
    "            JOIN personal_attributes p ON f.personal_key = p.personal_key\n",
    "        ) as subquery\n",
    "        GROUP BY age_group\n",
    "        ORDER BY rank;\n",
    "    \"\"\")\n",
    "    windowing_result = cursor.fetchall()\n",
    "    print(\"Windowing Result:\", windowing_result)\n",
    "\n",
    "\n",
    "    connection.close()\n",
    "    cursor.close()\n"
   ]
  }
 ],
 "metadata": {
  "kernelspec": {
   "display_name": "Python 3",
   "language": "python",
   "name": "python3"
  },
  "language_info": {
   "codemirror_mode": {
    "name": "ipython",
    "version": 3
   },
   "file_extension": ".py",
   "mimetype": "text/x-python",
   "name": "python",
   "nbconvert_exporter": "python",
   "pygments_lexer": "ipython3",
   "version": "3.11.0"
  }
 },
 "nbformat": 4,
 "nbformat_minor": 5
}
